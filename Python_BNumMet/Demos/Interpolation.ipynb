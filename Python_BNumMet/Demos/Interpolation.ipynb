{
 "cells": [
  {
   "cell_type": "markdown",
   "metadata": {},
   "source": [
    "# Interpolation Package"
   ]
  },
  {
   "cell_type": "code",
   "execution_count": 1,
   "metadata": {},
   "outputs": [],
   "source": [
    "import numpy as np\n",
    "import matplotlib.pyplot as plt\n",
    "from BNumMet.Interpolation import polinomial, piecewise_linear, pchip, splines\n",
    "\n",
    "\n",
    "def sortInterpolVals(x, y):\n",
    "    x = np.array(x)\n",
    "    y = np.array(y)\n",
    "    ind = np.argsort(x)  # Get the indices of the sorted array\n",
    "    x = x[ind]  # Sort the x coordinates\n",
    "    y = y[ind]  # Sort the y coordinates\n",
    "\n",
    "    return x, y"
   ]
  },
  {
   "cell_type": "markdown",
   "metadata": {},
   "source": [
    "## Data"
   ]
  },
  {
   "cell_type": "code",
   "execution_count": null,
   "metadata": {},
   "outputs": [],
   "source": [
    "# Create a set of points\n",
    "x = list(np.arange(1, 7, 1))\n",
    "y = [16, 18, 21, 17, 15, 12]\n",
    "u = np.arange(0.8, 6.2, 0.05)"
   ]
  },
  {
   "cell_type": "markdown",
   "metadata": {},
   "source": [
    "### interPoly"
   ]
  },
  {
   "cell_type": "code",
   "execution_count": null,
   "metadata": {},
   "outputs": [],
   "source": [
    "v = polinomial(x, y, u)\n",
    "plt.plot(x, y, \"o\", label=\"Original Points\")\n",
    "plt.plot(u, v, \"-\", label=\"Interpolated\")\n",
    "plt.legend()\n",
    "plt.show()"
   ]
  },
  {
   "cell_type": "markdown",
   "metadata": {},
   "source": [
    "### Piecewise Linear Interpolation"
   ]
  },
  {
   "cell_type": "code",
   "execution_count": null,
   "metadata": {},
   "outputs": [],
   "source": [
    "v = piecewiseLinear(x, y, u)\n",
    "plt.plot(x, y, \"o\", label=\"Original Points\")\n",
    "plt.plot(u, v, \"-\", label=\"Interpolated\")\n",
    "plt.legend()\n",
    "plt.show()"
   ]
  },
  {
   "cell_type": "markdown",
   "metadata": {},
   "source": [
    "### Pchip"
   ]
  },
  {
   "cell_type": "code",
   "execution_count": null,
   "metadata": {},
   "outputs": [],
   "source": [
    "v = pchip(x, y, u)\n",
    "plt.plot(x, y, \"o\", label=\"Original Points\")\n",
    "plt.plot(u, v, \"-\", label=\"Interpolated\")\n",
    "plt.legend()\n",
    "plt.show()"
   ]
  },
  {
   "cell_type": "markdown",
   "metadata": {},
   "source": [
    "### Spline Interpolation"
   ]
  },
  {
   "cell_type": "code",
   "execution_count": null,
   "metadata": {},
   "outputs": [],
   "source": [
    "v = splitnetx(x, y, u)\n",
    "\n",
    "plt.plot(x, y, \"o\", label=\"Original Points\")\n",
    "plt.plot(u, v, \"-\", label=\"Interpolated\")\n",
    "plt.legend()\n",
    "plt.show()"
   ]
  }
 ],
 "metadata": {
  "kernelspec": {
   "display_name": "venv",
   "language": "python",
   "name": "python3"
  },
  "language_info": {
   "codemirror_mode": {
    "name": "ipython",
    "version": 3
   },
   "file_extension": ".py",
   "mimetype": "text/x-python",
   "name": "python",
   "nbconvert_exporter": "python",
   "pygments_lexer": "ipython3",
   "version": "3.10.8"
  },
  "vscode": {
   "interpreter": {
    "hash": "4a6a798ee0bc491963f41cf6632b8f4dceebcc1559a3794d171ddee64c51fd8f"
   }
  }
 },
 "nbformat": 4,
 "nbformat_minor": 2
}
