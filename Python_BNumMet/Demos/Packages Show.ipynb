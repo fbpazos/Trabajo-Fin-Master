{
 "cells": [
  {
   "cell_type": "code",
   "execution_count": 1,
   "metadata": {},
   "outputs": [],
   "source": [
    "import numpy as np\n",
    "from IPython.display import display, Math"
   ]
  },
  {
   "cell_type": "markdown",
   "metadata": {},
   "source": [
    "# Linear Systems of Equations Package"
   ]
  },
  {
   "cell_type": "code",
   "execution_count": 2,
   "metadata": {},
   "outputs": [
    {
     "data": {
      "application/vnd.jupyter.widget-view+json": {
       "model_id": "7c4f1ff462324303a92db12d7232dfe2",
       "version_major": 2,
       "version_minor": 0
      },
      "text/plain": [
       "GridspecLayout(children=(VBox(children=(HBox(children=(Button(description='1.000', style=ButtonStyle(button_co…"
      ]
     },
     "metadata": {},
     "output_type": "display_data"
    }
   ],
   "source": [
    "from BNumMet.Visualizers.LUVisualizer import LUVisualizer\n",
    "\n",
    "A1 = np.array([[1, 2, 3, 7], list(np.random.randint(1,20,4)), [1, 2, 3, 7], list(np.random.randint(1,20,4))], dtype=float)\n",
    "A2 = np.zeros((3, 3))\n",
    "A2[0, 0] = 1\n",
    "A2[2, 2] = 1\n",
    "A3 = np.random.randint(0, 10, (4, 4))\n",
    "luVisualizer = LUVisualizer(A1)\n",
    "display(luVisualizer.run())"
   ]
  },
  {
   "cell_type": "markdown",
   "metadata": {},
   "source": [
    "# Inteprolation Package"
   ]
  },
  {
   "cell_type": "code",
   "execution_count": 3,
   "metadata": {},
   "outputs": [
    {
     "data": {
      "application/vnd.jupyter.widget-view+json": {
       "model_id": "7e7e18ef03a343cab925104196b26727",
       "version_major": 2,
       "version_minor": 0
      },
      "text/plain": [
       "GridspecLayout(children=(Toolbar(figure=Figure(animation_duration=1000, axes=[Axis(label='X', scale=LinearScal…"
      ]
     },
     "metadata": {},
     "output_type": "display_data"
    }
   ],
   "source": [
    "from BNumMet.Visualizers.InterpolationVisualizer import (\n",
    "    InterpolVisualizer,\n",
    ")\n",
    "\n",
    "x1 = list(np.random.random(6)*10)\n",
    "y1 = list(np.random.random(6)*10)\n",
    "u1 = list(np.arange(min(x1)-0.4, max(x1)+0.4, 0.1))\n",
    "\n",
    "\n",
    "interpolVisualizer = InterpolVisualizer()\n",
    "display(interpolVisualizer.run())"
   ]
  },
  {
   "cell_type": "markdown",
   "metadata": {},
   "source": [
    "# Zeros of Functions Package"
   ]
  },
  {
   "cell_type": "code",
   "execution_count": 4,
   "metadata": {},
   "outputs": [
    {
     "data": {
      "application/vnd.jupyter.widget-view+json": {
       "model_id": "49e8ab8681eb4672b59c786ae73eb593",
       "version_major": 2,
       "version_minor": 0
      },
      "text/plain": [
       "GridspecLayout(children=(VBox(children=(Toolbar(figure=Figure(axes=[Axis(label='X', scale=LinearScale(max=3.0,…"
      ]
     },
     "execution_count": 4,
     "metadata": {},
     "output_type": "execute_result"
    }
   ],
   "source": [
    "from BNumMet.Visualizers.NonLinearVisualizer import NonLinearVisualizer\n",
    "import numpy as np\n",
    "\n",
    "\n",
    "f = lambda x: (x - 1) * (x + 4) * (x - 8) * np.exp(-x)\n",
    "f2 = lambda x: 0 if abs(x) < 3.8 * 10 ** (-4) else float(x * np.exp(-1 / x**2))\n",
    "interval = (-1, 2)\n",
    "zerosVisualizer = NonLinearVisualizer()\n",
    "zerosVisualizer.run()"
   ]
  },
  {
   "cell_type": "markdown",
   "metadata": {},
   "source": [
    "# Least Squares"
   ]
  },
  {
   "cell_type": "code",
   "execution_count": 5,
   "metadata": {},
   "outputs": [
    {
     "data": {
      "application/vnd.jupyter.widget-view+json": {
       "model_id": "674a3e0aed75460d96637b02113b3d75",
       "version_major": 2,
       "version_minor": 0
      },
      "text/plain": [
       "GridspecLayout(children=(Figure(axes=[Axis(label='X', scale=LinearScale()), Axis(label='Y', orientation='verti…"
      ]
     },
     "execution_count": 5,
     "metadata": {},
     "output_type": "execute_result"
    }
   ],
   "source": [
    "import numpy as np\n",
    "from BNumMet.Visualizers.LeastSquaresVisualizer import LSPVisualizer\n",
    "\n",
    "xData = np.array([0, 1, 2, 3, 4])\n",
    "yData = np.array([4.5, 2.4, 1.5, 1, 1.5])\n",
    "lspVisualizer = LSPVisualizer(xData, yData)\n",
    "lspVisualizer.run()"
   ]
  },
  {
   "cell_type": "markdown",
   "metadata": {},
   "source": [
    "# Random Numbers"
   ]
  },
  {
   "cell_type": "code",
   "execution_count": 6,
   "metadata": {},
   "outputs": [
    {
     "data": {
      "application/vnd.jupyter.widget-view+json": {
       "model_id": "4fce23754ac74d75895d632cc25ab373",
       "version_major": 2,
       "version_minor": 0
      },
      "text/plain": [
       "GridspecLayout(children=(Figure(axes=[Axis(label='X', scale=LinearScale()), Axis(label='Y', orientation='verti…"
      ]
     },
     "execution_count": 6,
     "metadata": {},
     "output_type": "execute_result"
    }
   ],
   "source": [
    "from BNumMet.Visualizers.RandomVisualizer import RandomVisualizer\n",
    "from BNumMet.Random import marsaglia_rand, clear_marsaglia_vars\n",
    "\n",
    "clear_marsaglia_vars()\n",
    "randomFunc = lambda: marsaglia_rand(\n",
    "    base=43, lag_r=2, lag_s=1, carry=0, seed_tuple=(0, 1)\n",
    ")\n",
    "randomVisualizer = RandomVisualizer()\n",
    "randomVisualizer.run()"
   ]
  },
  {
   "cell_type": "code",
   "execution_count": null,
   "metadata": {},
   "outputs": [],
   "source": []
  }
 ],
 "metadata": {
  "authors": [
   {
    "name": "Fernando Bellido Pazos"
   }
  ],
  "celltoolbar": "Tags",
  "kernelspec": {
   "display_name": "Python 3 (ipykernel)",
   "language": "python",
   "name": "python3"
  },
  "language_info": {
   "codemirror_mode": {
    "name": "ipython",
    "version": 3
   },
   "file_extension": ".py",
   "mimetype": "text/x-python",
   "name": "python",
   "nbconvert_exporter": "python",
   "pygments_lexer": "ipython3",
   "version": "3.11.3"
  },
  "title": "Numerical Methods with Python an Introduction",
  "toc": {
   "base_numbering": 1,
   "nav_menu": {},
   "number_sections": true,
   "sideBar": true,
   "skip_h1_title": false,
   "title_cell": "Table of Contents",
   "title_sidebar": "Contents",
   "toc_cell": true,
   "toc_position": {},
   "toc_section_display": true,
   "toc_window_display": false
  },
  "vscode": {
   "interpreter": {
    "hash": "4a6a798ee0bc491963f41cf6632b8f4dceebcc1559a3794d171ddee64c51fd8f"
   }
  },
  "widgets": {
   "application/vnd.jupyter.widget-state+json": {
    "state": {
     "009d6d90c6c842538cbec6e989987dac": {
      "model_module": "@jupyter-widgets/controls",
      "model_module_version": "2.0.0",
      "model_name": "VBoxModel",
      "state": {
       "children": [
        "IPY_MODEL_0fe87743f6bb471f93cf3d996829a7ac",
        "IPY_MODEL_d0cce47de5a24d7bb72303c2e5ab38b3",
        "IPY_MODEL_20702fa14f86404ca5141c656fe5fa4c"
       ],
       "layout": "IPY_MODEL_f0f22fd0e25a4661a5b9c13f2991b611"
      }
     },
     "01d5d147392045718a4e6d7048c632b6": {
      "model_module": "@jupyter-widgets/base",
      "model_module_version": "2.0.0",
      "model_name": "LayoutModel",
      "state": {}
     },
     "0256aeb19ff9413daa231f0a38c42f3b": {
      "model_module": "@jupyter-widgets/controls",
      "model_module_version": "2.0.0",
      "model_name": "ButtonModel",
      "state": {
       "description": "25.00",
       "disabled": true,
       "layout": "IPY_MODEL_0327fd5aaac14c1bb795f9b1ec9975ef",
       "style": "IPY_MODEL_cc4caf1b7c5d46f38811fc8abb0e8040",
       "tooltip": null
      }
     },
     "0327fd5aaac14c1bb795f9b1ec9975ef": {
      "model_module": "@jupyter-widgets/base",
      "model_module_version": "2.0.0",
      "model_name": "LayoutModel",
      "state": {
       "height": "30px",
       "width": "125px"
      }
     },
     "0df03e699a8e427dabe27c7a7afbbab5": {
      "buffers": [
       {
        "data": "AAAAAAAA8D+amZmZmZnxPzQzMzMzM/M/zszMzMzM9D9oZmZmZmb2PwIAAAAAAPg/nJmZmZmZ+T82MzMzMzP7P9DMzMzMzPw/amZmZmZm/j8CAAAAAAAAQM/MzMzMzABAnJmZmZmZAUBpZmZmZmYCQDYzMzMzMwNAAwAAAAAABEDQzMzMzMwEQJ2ZmZmZmQVAamZmZmZmBkA3MzMzMzMHQAQAAAAAAAhA0czMzMzMCECemZmZmZkJQGtmZmZmZgpAODMzMzMzC0AFAAAAAAAMQNLMzMzMzAxAn5mZmZmZDUBsZmZmZmYOQDkzMzMzMw9AAwAAAAAAEEBqZmZmZmYQQNDMzMzMzBBANjMzMzMzEUCdmZmZmZkRQAQAAAAAABJAamZmZmZmEkDQzMzMzMwSQDczMzMzMxNAnpmZmZmZE0AEAAAAAAAUQGpmZmZmZhRA0czMzMzMFEA4MzMzMzMVQJ6ZmZmZmRVABAAAAAAAFkBrZmZmZmYWQNLMzMzMzBZAODMzMzMzF0CemZmZmZkXQAUAAAAAABhA",
        "encoding": "base64",
        "path": [
         "x",
         "value"
        ]
       },
       {
        "data": "AAAAAAAAMEDFbW3heTcuQN2pgHuePy1A5jI1Cd7yLEDc5zHKMy8tQP//////1S1A2wJC6+HLLkADwOrIkfgvQH4jumddozBAo28LlupRMUABAAAAAAAyQAqkxK7tpjJA7rq3IjFBM0CUrwRSYsozQIt0P6cgPzRAAgAAAACdNECsx32rdeI0QMU8K2nFDjVA80dRZ+4hNUA7xapBmBw1QAAAAAAAADVA5C7CFOXNNEDB76Zbdog0QKPDQxg/MjRApoqp9BPOM0D7/////14zQNk1Ia0x6DJAVxE10edsMkCAxkyiXvAxQCpU/rW8dTFA/f//////MEBO0sPQ6pEwQCgSE9TwLTBAWYJTH0isL0AaL6TDQxgvQPv/////oS5ASyfZ6nJKLkAdLGNDNxEuQDbiyW5m9C1A6GFodXLwLUABAAAAAAAuQJ5F71TAGy5AI+hoVUs6LkAKwap6+U8uQNrFNNO9Ti5A/v////8lLkCshLUxdsItQM5s5SX/DS1A2cw9JHzvK0DIrMH7qkoqQN///////ydA",
        "encoding": "base64",
        "path": [
         "y",
         "value"
        ]
       }
      ],
      "model_module": "bqplot",
      "model_module_version": "^0.5",
      "model_name": "LinesModel",
      "state": {
       "_model_module_version": "^0.5",
       "_view_module_version": "^0.5",
       "colors": [
        "blue"
       ],
       "fill_colors": [],
       "labels": [
        "InterPoly"
       ],
       "scales": {
        "x": "IPY_MODEL_ffa446cc1405472399c38ad20d012849",
        "y": "IPY_MODEL_88b7310c3bfc4e5291751bfcce61b32a"
       },
       "x": {
        "dtype": "float64",
        "shape": [
         51
        ],
        "type": null,
        "value": {}
       },
       "y": {
        "dtype": "float64",
        "shape": [
         51
        ],
        "type": null,
        "value": {}
       }
      }
     },
     "0dfd36a573de485cac3c68d7a95fbdba": {
      "model_module": "@jupyter-widgets/controls",
      "model_module_version": "2.0.0",
      "model_name": "ButtonStyleModel",
      "state": {
       "font_family": null,
       "font_size": null,
       "font_style": null,
       "font_variant": null,
       "font_weight": null,
       "text_color": null,
       "text_decoration": null
      }
     },
     "0fe87743f6bb471f93cf3d996829a7ac": {
      "model_module": "@jupyter-widgets/controls",
      "model_module_version": "2.0.0",
      "model_name": "HBoxModel",
      "state": {
       "children": [
        "IPY_MODEL_41ed963efe5345608bf7c34c6c5114ae",
        "IPY_MODEL_66feba12dfb448ed97d5dc7ab5f6aa0a",
        "IPY_MODEL_b4e95cfbab2a45cfa9968b99982622b3",
        "IPY_MODEL_e8753eb6f7ec424db0ae3be2e4f03d76"
       ],
       "layout": "IPY_MODEL_cf63523f96b347e39d27be714214587f"
      }
     },
     "10983992282c49719d83560f7a9d4b87": {
      "model_module": "@jupyter-widgets/base",
      "model_module_version": "2.0.0",
      "model_name": "LayoutModel",
      "state": {
       "height": "30px",
       "width": "125px"
      }
     },
     "10db5110b9204098aa86ee9074d912bb": {
      "model_module": "@jupyter-widgets/controls",
      "model_module_version": "2.0.0",
      "model_name": "HTMLMathStyleModel",
      "state": {
       "description_width": "",
       "font_size": null,
       "text_color": null
      }
     },
     "1427d90afc75410bb97efbb06cbe37d7": {
      "model_module": "bqplot",
      "model_module_version": "^0.5",
      "model_name": "LinearScaleModel",
      "state": {
       "_model_module_version": "^0.5",
       "_view_module_version": "^0.5",
       "allow_padding": false,
       "max": 1,
       "min": 0,
       "stabilized": false
      }
     },
     "16e8b0c3b2234c44aed1048f09db7937": {
      "model_module": "@jupyter-widgets/base",
      "model_module_version": "2.0.0",
      "model_name": "LayoutModel",
      "state": {}
     },
     "184fd438632245c78e6aac7a179f8faf": {
      "model_module": "@jupyter-widgets/controls",
      "model_module_version": "2.0.0",
      "model_name": "ButtonModel",
      "state": {
       "button_style": "info",
       "description": "Previous Step",
       "icon": "arrow-left",
       "layout": "IPY_MODEL_a5f7b28b8dee403b8f7e5c1e9465ca6d",
       "style": "IPY_MODEL_f7e79c0cb7f14ff29798091514f8536b",
       "tooltip": "Previous Step"
      }
     },
     "19650e40d3c244c98f2cfd0d6244f4f4": {
      "model_module": "@jupyter-widgets/controls",
      "model_module_version": "2.0.0",
      "model_name": "ButtonStyleModel",
      "state": {
       "font_family": null,
       "font_size": null,
       "font_style": null,
       "font_variant": null,
       "font_weight": null,
       "text_color": null,
       "text_decoration": null
      }
     },
     "1def7b4d7df041a3998b5c1551ff7192": {
      "model_module": "bqplot",
      "model_module_version": "^0.5",
      "model_name": "AxisModel",
      "state": {
       "_model_module_version": "^0.5",
       "_view_module_version": "^0.5",
       "label": "Y",
       "orientation": "vertical",
       "scale": "IPY_MODEL_88b7310c3bfc4e5291751bfcce61b32a",
       "side": "left",
       "tick_format": "0.2f",
       "tick_values": null
      }
     },
     "20702fa14f86404ca5141c656fe5fa4c": {
      "model_module": "@jupyter-widgets/controls",
      "model_module_version": "2.0.0",
      "model_name": "HBoxModel",
      "state": {
       "children": [
        "IPY_MODEL_9cd932556ab148c6b81965c4bcb590e3",
        "IPY_MODEL_60e70ec52e964479be590e933f22c907",
        "IPY_MODEL_531f49b98e4640f58c70b69c104780a3",
        "IPY_MODEL_0256aeb19ff9413daa231f0a38c42f3b"
       ],
       "layout": "IPY_MODEL_7d64736e5af64d6690dd3814f464b14b"
      }
     },
     "26ce68356b3d4d949acf949b6842511c": {
      "model_module": "@jupyter-widgets/base",
      "model_module_version": "2.0.0",
      "model_name": "LayoutModel",
      "state": {
       "grid_area": "widget005"
      }
     },
     "27b08b5fc4f54b1781885c0117c228f3": {
      "model_module": "@jupyter-widgets/base",
      "model_module_version": "2.0.0",
      "model_name": "LayoutModel",
      "state": {
       "grid_area": "widget003"
      }
     },
     "28378db14e8443079437c0a18149af35": {
      "model_module": "@jupyter-widgets/controls",
      "model_module_version": "2.0.0",
      "model_name": "ButtonModel",
      "state": {
       "description": "6.00",
       "disabled": true,
       "layout": "IPY_MODEL_10983992282c49719d83560f7a9d4b87",
       "style": "IPY_MODEL_4075dd9acc694688a2ba36677e40767a",
       "tooltip": null
      }
     },
     "29ef4062137c4ec18868508366656d5c": {
      "model_module": "@jupyter-widgets/base",
      "model_module_version": "2.0.0",
      "model_name": "LayoutModel",
      "state": {
       "height": "30px",
       "width": "125px"
      }
     },
     "2ec838228bac4e81bf9f0452bf149f7c": {
      "model_module": "@jupyter-widgets/base",
      "model_module_version": "2.0.0",
      "model_name": "LayoutModel",
      "state": {
       "height": "30px",
       "width": "125px"
      }
     },
     "2f424dcfff554a80ac93c1e4a7748754": {
      "model_module": "@jupyter-widgets/controls",
      "model_module_version": "2.0.0",
      "model_name": "HTMLMathModel",
      "state": {
       "description": "$L:$",
       "layout": "IPY_MODEL_26ce68356b3d4d949acf949b6842511c",
       "placeholder": "$L$",
       "style": "IPY_MODEL_e6fee6408bcd472bb9774820420cb0ae",
       "value": "  \\begin{pmatrix} \n1.0 & 0.0 & 0.0\\\\ \n0.0 & 1.0 & 0.0\\\\ \n0.0 & 0.0 & 1.0\\\\ \n\\end{pmatrix} "
      }
     },
     "2f8dce99da8542788d55463966018cba": {
      "model_module": "@jupyter-widgets/base",
      "model_module_version": "2.0.0",
      "model_name": "LayoutModel",
      "state": {
       "height": "30px",
       "width": "125px"
      }
     },
     "319c3fcfe565487ab723a4e20c5c42de": {
      "model_module": "@jupyter-widgets/controls",
      "model_module_version": "2.0.0",
      "model_name": "ButtonModel",
      "state": {
       "button_style": "danger",
       "description": "Reset",
       "icon": "undo",
       "layout": "IPY_MODEL_27b08b5fc4f54b1781885c0117c228f3",
       "style": "IPY_MODEL_d44dd297fc42400bb1bcef1ee3ceab0a",
       "tooltip": "Reset"
      }
     },
     "32d0e7d22c3b4431a82c4a1ef5b18d3f": {
      "model_module": "@jupyter-widgets/controls",
      "model_module_version": "2.0.0",
      "model_name": "ButtonStyleModel",
      "state": {
       "font_family": null,
       "font_size": null,
       "font_style": null,
       "font_variant": null,
       "font_weight": null,
       "text_color": null,
       "text_decoration": null
      }
     },
     "36490affa3a64937b629ab8f37fc074e": {
      "model_module": "@jupyter-widgets/controls",
      "model_module_version": "2.0.0",
      "model_name": "CheckboxStyleModel",
      "state": {
       "background": "blue",
       "description_width": ""
      }
     },
     "3f579a89f4ad4da3a3c11eb1eb6ad601": {
      "model_module": "@jupyter-widgets/base",
      "model_module_version": "2.0.0",
      "model_name": "LayoutModel",
      "state": {}
     },
     "4075dd9acc694688a2ba36677e40767a": {
      "model_module": "@jupyter-widgets/controls",
      "model_module_version": "2.0.0",
      "model_name": "ButtonStyleModel",
      "state": {
       "font_family": null,
       "font_size": null,
       "font_style": null,
       "font_variant": null,
       "font_weight": null,
       "text_color": null,
       "text_decoration": null
      }
     },
     "41ed963efe5345608bf7c34c6c5114ae": {
      "model_module": "@jupyter-widgets/controls",
      "model_module_version": "2.0.0",
      "model_name": "ButtonModel",
      "state": {
       "button_style": "success",
       "description": "1.00",
       "layout": "IPY_MODEL_29ef4062137c4ec18868508366656d5c",
       "style": "IPY_MODEL_665654ba5c9f48d8a3ea7cf13d845ea2",
       "tooltip": null
      }
     },
     "4204917758e2438184f94a1d05f01110": {
      "model_module": "@jupyter-widgets/base",
      "model_module_version": "2.0.0",
      "model_name": "LayoutModel",
      "state": {
       "grid_template_areas": "\"widget001 widget001 widget001 widget001 widget001 widget001 widget001\"\n\"widget002 widget002 widget002 widget002 widget003 widget003 widget003\"\n\"widget002 widget002 widget002 widget002 widget003 widget003 widget003\"\n\"widget002 widget002 widget002 widget002 widget003 widget003 widget003\"\n\"widget002 widget002 widget002 widget002 widget003 widget003 widget003\"\n\"widget002 widget002 widget002 widget002 widget003 widget003 widget003\"\n\"widget002 widget002 widget002 widget002 widget003 widget003 widget003\"\n\"widget002 widget002 widget002 widget002 widget003 widget003 widget003\"\n\"widget002 widget002 widget002 widget002 widget003 widget003 widget003\"\n\"widget002 widget002 widget002 widget002 widget003 widget003 widget003\"\n\"widget002 widget002 widget002 widget002 widget003 widget003 widget003\"",
       "grid_template_columns": "repeat(7, 1fr)",
       "grid_template_rows": "repeat(11, 1fr)"
      }
     },
     "4804b6690c8a4152b8be65c778e58802": {
      "model_module": "@jupyter-widgets/controls",
      "model_module_version": "2.0.0",
      "model_name": "ButtonModel",
      "state": {
       "button_style": "success",
       "description": "4.00",
       "layout": "IPY_MODEL_add6a8d1bda940a180f6594f2f6b100f",
       "style": "IPY_MODEL_32d0e7d22c3b4431a82c4a1ef5b18d3f",
       "tooltip": null
      }
     },
     "4cc7fb6fbd54427bbbb8e99ae829d30e": {
      "model_module": "@jupyter-widgets/controls",
      "model_module_version": "2.0.0",
      "model_name": "HTMLMathModel",
      "state": {
       "description": "$LU:$",
       "layout": "IPY_MODEL_bf243260b5e44a98aa67f27273744f3f",
       "placeholder": "$LU$",
       "style": "IPY_MODEL_4e2a65abe56142a287f2073251abf5aa",
       "value": "  \\begin{pmatrix} \n1.0 & 2.0 & 3.0 & 5.0\\\\ \n4.0 & 5.0 & 6.0 & 7.0\\\\ \n7.0 & 8.0 & 9.0 & 25.0\\\\ \n\\end{pmatrix} "
      }
     },
     "4e2a65abe56142a287f2073251abf5aa": {
      "model_module": "@jupyter-widgets/controls",
      "model_module_version": "2.0.0",
      "model_name": "HTMLMathStyleModel",
      "state": {
       "description_width": "",
       "font_size": null,
       "text_color": null
      }
     },
     "512e11a34da0476f9c5fb48c3d178355": {
      "buffers": [
       {
        "data": "AAAAAAAA8D+amZmZmZnxPzQzMzMzM/M/zszMzMzM9D9oZmZmZmb2PwIAAAAAAPg/nJmZmZmZ+T82MzMzMzP7P9DMzMzMzPw/amZmZmZm/j8CAAAAAAAAQM/MzMzMzABAnJmZmZmZAUBpZmZmZmYCQDYzMzMzMwNAAwAAAAAABEDQzMzMzMwEQJ2ZmZmZmQVAamZmZmZmBkA3MzMzMzMHQAQAAAAAAAhA0czMzMzMCECemZmZmZkJQGtmZmZmZgpAODMzMzMzC0AFAAAAAAAMQNLMzMzMzAxAn5mZmZmZDUBsZmZmZmYOQDkzMzMzMw9AAwAAAAAAEEBqZmZmZmYQQNDMzMzMzBBANjMzMzMzEUCdmZmZmZkRQAQAAAAAABJAamZmZmZmEkDQzMzMzMwSQDczMzMzMxNAnpmZmZmZE0AEAAAAAAAUQGpmZmZmZhRA0czMzMzMFEA4MzMzMzMVQJ6ZmZmZmRVABAAAAAAAFkBrZmZmZmYWQNLMzMzMzBZAODMzMzMzF0CemZmZmZkXQAUAAAAAABhA",
        "encoding": "base64",
        "path": [
         "x",
         "value"
        ]
       },
       {
        "data": "AAAAAAAAMEBHcvkP6ScwQDQRNjy9UjBAHHxhMlWAMEBVUiegibAwQDMzMzMz4zBADr4wmSoYMUA7kst/SE8xQA5Pr5RliDFA3pOHhVrDMUABAAAAAAAyQNc07zhFRzJA564l5IOeMkA61sVtNAAzQNkS8kHPZjNAzszMzMzMM0AkbHh6pSw0QONYF7fRgDRAF/vL7snDNEDIuriNBvA0QAAAAAAAADVAtfP91HjpNEAQyuhtWas0QOX7qfHSTTRACQIrhxbZM0BSVVVVVVUzQJRuEoPAyjJApMZLN4lBMkBY1uqY4MExQIQW2c73UzFA/v//////MEDiFB3J5b8wQD4QMw4IhzBATUATYcNTMEBM845TdCQwQOzu7u7u7i9ADjY8vVKWL0B2WKg1zTsvQJvy1XsX3C5A9KBns+pzLkD7//////8tQEXqBDQRdi1A15OHhVrTLEBNn6ut2B8sQEevlGWIYytAX2ZmZmamKkAwZ0Rpb/ApQFlUUiegSSlAdtCzWfW5KEAkfoy5a0koQP7//////ydA",
        "encoding": "base64",
        "path": [
         "y",
         "value"
        ]
       }
      ],
      "model_module": "bqplot",
      "model_module_version": "^0.5",
      "model_name": "LinesModel",
      "state": {
       "_model_module_version": "^0.5",
       "_view_module_version": "^0.5",
       "colors": [
        "orange"
       ],
       "fill_colors": [],
       "labels": [
        "Pchip"
       ],
       "scales": {
        "x": "IPY_MODEL_ffa446cc1405472399c38ad20d012849",
        "y": "IPY_MODEL_88b7310c3bfc4e5291751bfcce61b32a"
       },
       "x": {
        "dtype": "float64",
        "shape": [
         51
        ],
        "type": null,
        "value": {}
       },
       "y": {
        "dtype": "float64",
        "shape": [
         51
        ],
        "type": null,
        "value": {}
       }
      }
     },
     "531f49b98e4640f58c70b69c104780a3": {
      "model_module": "@jupyter-widgets/controls",
      "model_module_version": "2.0.0",
      "model_name": "ButtonModel",
      "state": {
       "description": "9.00",
       "disabled": true,
       "layout": "IPY_MODEL_ac11a17a904343bf8ac6bcabda138b9b",
       "style": "IPY_MODEL_e6baf3fec4524dd0aca1c25a4192a811",
       "tooltip": null
      }
     },
     "5956605633fa4856b27ab5000c65fd97": {
      "model_module": "@jupyter-widgets/controls",
      "model_module_version": "2.0.0",
      "model_name": "GridBoxModel",
      "state": {
       "children": [
        "IPY_MODEL_009d6d90c6c842538cbec6e989987dac",
        "IPY_MODEL_184fd438632245c78e6aac7a179f8faf",
        "IPY_MODEL_319c3fcfe565487ab723a4e20c5c42de",
        "IPY_MODEL_84ed1580e6ea434fb257ff09ef83df81",
        "IPY_MODEL_2f424dcfff554a80ac93c1e4a7748754",
        "IPY_MODEL_bb386ef01eff4abbbbd9290aaaf17b10",
        "IPY_MODEL_4cc7fb6fbd54427bbbb8e99ae829d30e",
        "IPY_MODEL_d24d46f666eb426999da48de915820ce"
       ],
       "layout": "IPY_MODEL_d0afca5c88b14fe59f103218e5d2a14b"
      }
     },
     "5c88a6b23a3a4d0ea6a73b51a74f5a4c": {
      "model_module": "@jupyter-widgets/base",
      "model_module_version": "2.0.0",
      "model_name": "LayoutModel",
      "state": {}
     },
     "5e914d8f514b4665bee515d466a6ff0d": {
      "model_module": "@jupyter-widgets/controls",
      "model_module_version": "2.0.0",
      "model_name": "ButtonModel",
      "state": {
       "description": "5.00",
       "disabled": true,
       "layout": "IPY_MODEL_2ec838228bac4e81bf9f0452bf149f7c",
       "style": "IPY_MODEL_ede1268365444dd6944437b9e8ac931e",
       "tooltip": null
      }
     },
     "60e70ec52e964479be590e933f22c907": {
      "model_module": "@jupyter-widgets/controls",
      "model_module_version": "2.0.0",
      "model_name": "ButtonModel",
      "state": {
       "description": "8.00",
       "disabled": true,
       "layout": "IPY_MODEL_dbd6a722b47e48f380434f91d9730973",
       "style": "IPY_MODEL_19650e40d3c244c98f2cfd0d6244f4f4",
       "tooltip": null
      }
     },
     "62e1999b52e04d1582794a70dafa3b4b": {
      "buffers": [
       {
        "data": "AAAAAAAA8D+amZmZmZnxPzQzMzMzM/M/zszMzMzM9D9oZmZmZmb2PwIAAAAAAPg/nJmZmZmZ+T82MzMzMzP7P9DMzMzMzPw/amZmZmZm/j8CAAAAAAAAQM/MzMzMzABAnJmZmZmZAUBpZmZmZmYCQDYzMzMzMwNAAwAAAAAABEDQzMzMzMwEQJ2ZmZmZmQVAamZmZmZmBkA3MzMzMzMHQAQAAAAAAAhA0czMzMzMCECemZmZmZkJQGtmZmZmZgpAODMzMzMzC0AFAAAAAAAMQNLMzMzMzAxAn5mZmZmZDUBsZmZmZmYOQDkzMzMzMw9AAwAAAAAAEEBqZmZmZmYQQNDMzMzMzBBANjMzMzMzEUCdmZmZmZkRQAQAAAAAABJAamZmZmZmEkDQzMzMzMwSQDczMzMzMxNAnpmZmZmZE0AEAAAAAAAUQGpmZmZmZhRA0czMzMzMFEA4MzMzMzMVQJ6ZmZmZmRVABAAAAAAAFkBrZmZmZmYWQNLMzMzMzBZAODMzMzMzF0CemZmZmZkXQAUAAAAAABhA",
        "encoding": "base64",
        "path": [
         "x",
         "value"
        ]
       },
       {
        "data": "AAAAAAAAMEDNzMzMzIwvQFyPwvUoXC9Apw102kBnL0CoDXTaQKcvQKuqqqqqCjBAVlVVVVVVMEDRaQOdNrAwQBlLfrHkFzFAKlyPwvWIMUABAAAAAAAyQJuZmZmZeTJA9Islv1jyMkAIOm2g02YzQNUGOm2g0zNAV1VVVVU1NECKiIiIiIg0QGsDnTbQyTRA9ihcj8L1NEApXI/C9Qg1QAAAAAAAADVARbbz/dTYNED8G6GM3pY0QPYMuwLkPjRABmX0tqzVM0D9/////18zQKy5kDSl4jJA5m1Zq2NiMkB6+Ay7AuQxQDw1XrpJbDFA/f//////MECGQWDl0KIwQIUW2c73UzBAnah/I5QRMEDjQtKUirMvQFJVVVVVVS9Az9uyVscEL0CiKRVnH74uQBWSplScfS5AcGiR7Xw/LkD9//////8tQAasHFpkuy1A0b8RyuhtLUCpjgkezBMtQNdrLiRNqSxApaqqqqoqLEBZnqh/I5QrQD6aUnH24SpAn/HSTWIQKkDD91PjpRspQPH//////ydA",
        "encoding": "base64",
        "path": [
         "y",
         "value"
        ]
       }
      ],
      "model_module": "bqplot",
      "model_module_version": "^0.5",
      "model_name": "LinesModel",
      "state": {
       "_model_module_version": "^0.5",
       "_view_module_version": "^0.5",
       "colors": [
        "purple"
       ],
       "fill_colors": [],
       "labels": [
        "SplitNetX"
       ],
       "scales": {
        "x": "IPY_MODEL_ffa446cc1405472399c38ad20d012849",
        "y": "IPY_MODEL_88b7310c3bfc4e5291751bfcce61b32a"
       },
       "x": {
        "dtype": "float64",
        "shape": [
         51
        ],
        "type": null,
        "value": {}
       },
       "y": {
        "dtype": "float64",
        "shape": [
         51
        ],
        "type": null,
        "value": {}
       }
      }
     },
     "635681fecfd24927bd42afbeac7db4b7": {
      "model_module": "@jupyter-widgets/base",
      "model_module_version": "2.0.0",
      "model_name": "LayoutModel",
      "state": {}
     },
     "63b8e5cf6e8c424b8fc164e23a6356c2": {
      "model_module": "@jupyter-widgets/base",
      "model_module_version": "2.0.0",
      "model_name": "LayoutModel",
      "state": {}
     },
     "665654ba5c9f48d8a3ea7cf13d845ea2": {
      "model_module": "@jupyter-widgets/controls",
      "model_module_version": "2.0.0",
      "model_name": "ButtonStyleModel",
      "state": {
       "font_family": null,
       "font_size": null,
       "font_style": null,
       "font_variant": null,
       "font_weight": null,
       "text_color": null,
       "text_decoration": null
      }
     },
     "66cd9a8e76ef46ceb2237db497b38bba": {
      "model_module": "@jupyter-widgets/controls",
      "model_module_version": "2.0.0",
      "model_name": "SliderStyleModel",
      "state": {
       "description_width": ""
      }
     },
     "66feba12dfb448ed97d5dc7ab5f6aa0a": {
      "model_module": "@jupyter-widgets/controls",
      "model_module_version": "2.0.0",
      "model_name": "ButtonModel",
      "state": {
       "description": "2.00",
       "disabled": true,
       "layout": "IPY_MODEL_d8bdadb1f1dd49959194816300baa6a9",
       "style": "IPY_MODEL_f06fa7d9e17344699077239342b88713",
       "tooltip": null
      }
     },
     "6c501374136a4082bba5b0506752ab61": {
      "model_module": "@jupyter-widgets/base",
      "model_module_version": "2.0.0",
      "model_name": "LayoutModel",
      "state": {
       "grid_area": "widget004"
      }
     },
     "6deaa67371194d41a8b0cc8ef3afa3a6": {
      "model_module": "@jupyter-widgets/controls",
      "model_module_version": "2.0.0",
      "model_name": "FloatRangeSliderModel",
      "state": {
       "_model_name": "FloatRangeSliderModel",
       "_view_name": "FloatRangeSliderView",
       "behavior": "drag-tap",
       "continuous_update": false,
       "description": "Mesh:",
       "layout": "IPY_MODEL_63b8e5cf6e8c424b8fc164e23a6356c2",
       "max": 8.5,
       "min": -1.5,
       "readout_format": ".1f",
       "step": 0.1,
       "style": "IPY_MODEL_66cd9a8e76ef46ceb2237db497b38bba",
       "value": [
        1,
        6
       ]
      }
     },
     "72334f3a48b14be1a9f32126b41c8bb0": {
      "buffers": [
       {
        "data": "AAAAAAAA8D+amZmZmZnxPzQzMzMzM/M/zszMzMzM9D9oZmZmZmb2PwIAAAAAAPg/nJmZmZmZ+T82MzMzMzP7P9DMzMzMzPw/amZmZmZm/j8CAAAAAAAAQM/MzMzMzABAnJmZmZmZAUBpZmZmZmYCQDYzMzMzMwNAAwAAAAAABEDQzMzMzMwEQJ2ZmZmZmQVAamZmZmZmBkA3MzMzMzMHQAQAAAAAAAhA0czMzMzMCECemZmZmZkJQGtmZmZmZgpAODMzMzMzC0AFAAAAAAAMQNLMzMzMzAxAn5mZmZmZDUBsZmZmZmYOQDkzMzMzMw9AAwAAAAAAEEBqZmZmZmYQQNDMzMzMzBBANjMzMzMzEUCdmZmZmZkRQAQAAAAAABJAamZmZmZmEkDQzMzMzMwSQDczMzMzMxNAnpmZmZmZE0AEAAAAAAAUQGpmZmZmZhRA0czMzMzMFEA4MzMzMzMVQJ6ZmZmZmRVABAAAAAAAFkBrZmZmZmYWQNLMzMzMzBZAODMzMzMzF0CemZmZmZkXQAUAAAAAABhA",
        "encoding": "base64",
        "path": [
         "x",
         "value"
        ]
       },
       {
        "data": "AAAAAAAAMEAzMzMzMzMwQGZmZmZmZjBAmpmZmZmZMEDNzMzMzMwwQAAAAAAAADFANDMzMzMzMUBnZmZmZmYxQJqZmZmZmTFAzczMzMzMMUABAAAAAAAyQM7MzMzMTDJAmpmZmZmZMkBnZmZmZuYyQDQzMzMzMzNAAQAAAACAM0DOzMzMzMwzQJuZmZmZGTRAaGZmZmZmNEA1MzMzM7M0QP7//////zRAmJmZmZmZNEAxMzMzMzM0QMrMzMzMzDNAZGZmZmZmM0D+//////8yQJeZmZmZmTJAMDMzMzMzMkDKzMzMzMwxQGRmZmZmZjFA/v//////MEDLzMzMzMwwQJiZmZmZmTBAZWZmZmZmMEAyMzMzMzMwQPz//////y9AlpmZmZmZL0AwMzMzMzMvQMnMzMzMzC5AYmZmZmZmLkD6//////8tQGFmZmZmZi1AxszMzMzMLEAsMzMzMzMsQJOZmZmZmStA+v//////KkBgZmZmZmYqQMXMzMzMzClALDMzMzMzKUCTmZmZmZkoQPj//////ydA",
        "encoding": "base64",
        "path": [
         "y",
         "value"
        ]
       }
      ],
      "model_module": "bqplot",
      "model_module_version": "^0.5",
      "model_name": "LinesModel",
      "state": {
       "_model_module_version": "^0.5",
       "_view_module_version": "^0.5",
       "colors": [
        "green"
       ],
       "fill_colors": [],
       "labels": [
        "Piecewise Linear"
       ],
       "scales": {
        "x": "IPY_MODEL_ffa446cc1405472399c38ad20d012849",
        "y": "IPY_MODEL_88b7310c3bfc4e5291751bfcce61b32a"
       },
       "x": {
        "dtype": "float64",
        "shape": [
         51
        ],
        "type": null,
        "value": {}
       },
       "y": {
        "dtype": "float64",
        "shape": [
         51
        ],
        "type": null,
        "value": {}
       }
      }
     },
     "7511a1870ad043f8b5e3f7eff00a6873": {
      "model_module": "@jupyter-widgets/base",
      "model_module_version": "2.0.0",
      "model_name": "LayoutModel",
      "state": {
       "grid_area": "widget001"
      }
     },
     "75bbfed8eb554cac90aeb5e553c4053a": {
      "model_module": "@jupyter-widgets/controls",
      "model_module_version": "2.0.0",
      "model_name": "CheckboxStyleModel",
      "state": {
       "background": "green",
       "description_width": ""
      }
     },
     "7bedc7e5174b4a19b7fbe464fa9419ff": {
      "model_module": "@jupyter-widgets/base",
      "model_module_version": "2.0.0",
      "model_name": "LayoutModel",
      "state": {
       "height": "30px",
       "width": "125px"
      }
     },
     "7d64736e5af64d6690dd3814f464b14b": {
      "model_module": "@jupyter-widgets/base",
      "model_module_version": "2.0.0",
      "model_name": "LayoutModel",
      "state": {}
     },
     "82f1c88975254173838472c37fd24ca8": {
      "model_module": "@jupyter-widgets/controls",
      "model_module_version": "2.0.0",
      "model_name": "ButtonModel",
      "state": {
       "description": "7.00",
       "disabled": true,
       "layout": "IPY_MODEL_2f8dce99da8542788d55463966018cba",
       "style": "IPY_MODEL_9769a5a1f8ed49a09da12da0f3f19baf",
       "tooltip": null
      }
     },
     "84ed1580e6ea434fb257ff09ef83df81": {
      "model_module": "@jupyter-widgets/controls",
      "model_module_version": "2.0.0",
      "model_name": "HTMLMathModel",
      "state": {
       "description": "$P:$",
       "layout": "IPY_MODEL_6c501374136a4082bba5b0506752ab61",
       "placeholder": "$P$",
       "style": "IPY_MODEL_a814d9eec6d440bc83a6a8d35f5257ce",
       "value": "  \\begin{pmatrix} \n1.0 & 0.0 & 0.0\\\\ \n0.0 & 1.0 & 0.0\\\\ \n0.0 & 0.0 & 1.0\\\\ \n\\end{pmatrix} "
      }
     },
     "88b7310c3bfc4e5291751bfcce61b32a": {
      "model_module": "bqplot",
      "model_module_version": "^0.5",
      "model_name": "LinearScaleModel",
      "state": {
       "_model_module_version": "^0.5",
       "_view_module_version": "^0.5",
       "stabilized": false
      }
     },
     "8e8247aea61544ceae999eb5feb79e3f": {
      "model_module": "@jupyter-widgets/base",
      "model_module_version": "2.0.0",
      "model_name": "LayoutModel",
      "state": {
       "grid_area": "widget003"
      }
     },
     "92933eea09ca40e98b55de120c9dc17a": {
      "model_module": "@jupyter-widgets/controls",
      "model_module_version": "2.0.0",
      "model_name": "HTMLMathModel",
      "state": {
       "description": "$PA=?LU$",
       "layout": "IPY_MODEL_16e8b0c3b2234c44aed1048f09db7937",
       "placeholder": "$PA=?LU$",
       "style": "IPY_MODEL_c42e0ae8053e4006b65736537ac6343d",
       "value": "True"
      }
     },
     "93c6c6b9889943d8ace3137e2fefb7a8": {
      "model_module": "@jupyter-widgets/base",
      "model_module_version": "2.0.0",
      "model_name": "LayoutModel",
      "state": {
       "height": "30px",
       "width": "125px"
      }
     },
     "9769a5a1f8ed49a09da12da0f3f19baf": {
      "model_module": "@jupyter-widgets/controls",
      "model_module_version": "2.0.0",
      "model_name": "ButtonStyleModel",
      "state": {
       "font_family": null,
       "font_size": null,
       "font_style": null,
       "font_variant": null,
       "font_weight": null,
       "text_color": null,
       "text_decoration": null
      }
     },
     "99ee17f2ec5343428716c8ff92c24e37": {
      "model_module": "@jupyter-widgets/controls",
      "model_module_version": "2.0.0",
      "model_name": "CheckboxModel",
      "state": {
       "description": "Piecewise Linear",
       "disabled": false,
       "layout": "IPY_MODEL_e9a1e0d213d3416a86899f9cf67fb814",
       "style": "IPY_MODEL_75bbfed8eb554cac90aeb5e553c4053a",
       "value": true
      }
     },
     "9bf1ae19252a47939804fe335f5caf8a": {
      "model_module": "bqplot",
      "model_module_version": "^0.5",
      "model_name": "AxisModel",
      "state": {
       "_model_module_version": "^0.5",
       "_view_module_version": "^0.5",
       "label": "X",
       "scale": "IPY_MODEL_ffa446cc1405472399c38ad20d012849",
       "side": "bottom",
       "tick_values": null
      }
     },
     "9cd932556ab148c6b81965c4bcb590e3": {
      "model_module": "@jupyter-widgets/controls",
      "model_module_version": "2.0.0",
      "model_name": "ButtonModel",
      "state": {
       "button_style": "success",
       "description": "7.00",
       "layout": "IPY_MODEL_7bedc7e5174b4a19b7fbe464fa9419ff",
       "style": "IPY_MODEL_d7931d02d2974c5b906369c0dfed7b47",
       "tooltip": null
      }
     },
     "a5a509465ee24205a4b95a0cf1530a7d": {
      "model_module": "@jupyter-widgets/controls",
      "model_module_version": "2.0.0",
      "model_name": "CheckboxStyleModel",
      "state": {
       "background": "orange",
       "description_width": ""
      }
     },
     "a5c90d4b159d4c688661243b403725c2": {
      "model_module": "@jupyter-widgets/base",
      "model_module_version": "2.0.0",
      "model_name": "LayoutModel",
      "state": {
       "height": "30px",
       "width": "125px"
      }
     },
     "a5f7b28b8dee403b8f7e5c1e9465ca6d": {
      "model_module": "@jupyter-widgets/base",
      "model_module_version": "2.0.0",
      "model_name": "LayoutModel",
      "state": {
       "grid_area": "widget002"
      }
     },
     "a814d9eec6d440bc83a6a8d35f5257ce": {
      "model_module": "@jupyter-widgets/controls",
      "model_module_version": "2.0.0",
      "model_name": "HTMLMathStyleModel",
      "state": {
       "description_width": "",
       "font_size": null,
       "text_color": null
      }
     },
     "ab1398efa0c84e04b64d35ac63751712": {
      "model_module": "@jupyter-widgets/controls",
      "model_module_version": "2.0.0",
      "model_name": "VBoxModel",
      "state": {
       "children": [
        "IPY_MODEL_bbea029b584b4f90b5c2700cf57a7276",
        "IPY_MODEL_99ee17f2ec5343428716c8ff92c24e37",
        "IPY_MODEL_ca570b078b954d14bebf5b24402e9c98",
        "IPY_MODEL_ca3be3da21a04f5cb5c6c409c39ed1c1"
       ],
       "layout": "IPY_MODEL_c09ad1ec1ba24c21a0b83b01b4b035a0"
      }
     },
     "ac11a17a904343bf8ac6bcabda138b9b": {
      "model_module": "@jupyter-widgets/base",
      "model_module_version": "2.0.0",
      "model_name": "LayoutModel",
      "state": {
       "height": "30px",
       "width": "125px"
      }
     },
     "add6a8d1bda940a180f6594f2f6b100f": {
      "model_module": "@jupyter-widgets/base",
      "model_module_version": "2.0.0",
      "model_name": "LayoutModel",
      "state": {
       "height": "30px",
       "width": "125px"
      }
     },
     "b4e95cfbab2a45cfa9968b99982622b3": {
      "model_module": "@jupyter-widgets/controls",
      "model_module_version": "2.0.0",
      "model_name": "ButtonModel",
      "state": {
       "description": "3.00",
       "disabled": true,
       "layout": "IPY_MODEL_93c6c6b9889943d8ace3137e2fefb7a8",
       "style": "IPY_MODEL_0dfd36a573de485cac3c68d7a95fbdba",
       "tooltip": null
      }
     },
     "b53ced96cd17402ab7cbc98c83c47876": {
      "model_module": "@jupyter-widgets/base",
      "model_module_version": "2.0.0",
      "model_name": "LayoutModel",
      "state": {
       "grid_area": "widget008"
      }
     },
     "bb386ef01eff4abbbbd9290aaaf17b10": {
      "model_module": "@jupyter-widgets/controls",
      "model_module_version": "2.0.0",
      "model_name": "HTMLMathModel",
      "state": {
       "description": "$U:$",
       "layout": "IPY_MODEL_ef992d7746e1432e94c52c4e430b8a72",
       "placeholder": "$U$",
       "style": "IPY_MODEL_10db5110b9204098aa86ee9074d912bb",
       "value": "  \\begin{pmatrix} \n1.0 & 2.0 & 3.0 & 5.0\\\\ \n4.0 & 5.0 & 6.0 & 7.0\\\\ \n7.0 & 8.0 & 9.0 & 25.0\\\\ \n\\end{pmatrix} "
      }
     },
     "bb47d5c3806e4dcda71d25cc82956859": {
      "model_module": "bqplot",
      "model_module_version": "^0.5",
      "model_name": "FigureModel",
      "state": {
       "_model_module_version": "^0.5",
       "_view_module_version": "^0.5",
       "animation_duration": 1000,
       "axes": [
        "IPY_MODEL_9bf1ae19252a47939804fe335f5caf8a",
        "IPY_MODEL_1def7b4d7df041a3998b5c1551ff7192"
       ],
       "layout": "IPY_MODEL_f203508f58084778a948c56ccc2b69a5",
       "marks": [
        "IPY_MODEL_0df03e699a8e427dabe27c7a7afbbab5",
        "IPY_MODEL_72334f3a48b14be1a9f32126b41c8bb0",
        "IPY_MODEL_512e11a34da0476f9c5fb48c3d178355",
        "IPY_MODEL_62e1999b52e04d1582794a70dafa3b4b",
        "IPY_MODEL_f3e25c48e91742ca91d9d9513c642938"
       ],
       "scale_x": "IPY_MODEL_df615a00109f4b34be23e87522d9a3ee",
       "scale_y": "IPY_MODEL_1427d90afc75410bb97efbb06cbe37d7",
       "title": "Interpolation Visualizer"
      }
     },
     "bbea029b584b4f90b5c2700cf57a7276": {
      "model_module": "@jupyter-widgets/controls",
      "model_module_version": "2.0.0",
      "model_name": "CheckboxModel",
      "state": {
       "description": "InterPoly",
       "disabled": false,
       "layout": "IPY_MODEL_5c88a6b23a3a4d0ea6a73b51a74f5a4c",
       "style": "IPY_MODEL_36490affa3a64937b629ab8f37fc074e",
       "value": true
      }
     },
     "bf243260b5e44a98aa67f27273744f3f": {
      "model_module": "@jupyter-widgets/base",
      "model_module_version": "2.0.0",
      "model_name": "LayoutModel",
      "state": {
       "grid_area": "widget007"
      }
     },
     "c094340fdb36442898a02b97948a2dcb": {
      "model_module": "@jupyter-widgets/controls",
      "model_module_version": "2.0.0",
      "model_name": "GridBoxModel",
      "state": {
       "children": [
        "IPY_MODEL_cd032adc276d4a67b8b63b55ffd82b41",
        "IPY_MODEL_bb47d5c3806e4dcda71d25cc82956859",
        "IPY_MODEL_d7f5cf6ffed44df4acc7dfbae9f818a1"
       ],
       "layout": "IPY_MODEL_4204917758e2438184f94a1d05f01110"
      }
     },
     "c09ad1ec1ba24c21a0b83b01b4b035a0": {
      "model_module": "@jupyter-widgets/base",
      "model_module_version": "2.0.0",
      "model_name": "LayoutModel",
      "state": {}
     },
     "c40417f5fdcf4eaeadb4c8f1508cc9b2": {
      "model_module": "@jupyter-widgets/controls",
      "model_module_version": "2.0.0",
      "model_name": "CheckboxStyleModel",
      "state": {
       "background": "purple",
       "description_width": ""
      }
     },
     "c42e0ae8053e4006b65736537ac6343d": {
      "model_module": "@jupyter-widgets/controls",
      "model_module_version": "2.0.0",
      "model_name": "HTMLMathStyleModel",
      "state": {
       "description_width": "",
       "font_size": null,
       "text_color": null
      }
     },
     "ca3be3da21a04f5cb5c6c409c39ed1c1": {
      "model_module": "@jupyter-widgets/controls",
      "model_module_version": "2.0.0",
      "model_name": "CheckboxModel",
      "state": {
       "description": "SplitNetX",
       "disabled": false,
       "layout": "IPY_MODEL_01d5d147392045718a4e6d7048c632b6",
       "style": "IPY_MODEL_c40417f5fdcf4eaeadb4c8f1508cc9b2",
       "value": true
      }
     },
     "ca570b078b954d14bebf5b24402e9c98": {
      "model_module": "@jupyter-widgets/controls",
      "model_module_version": "2.0.0",
      "model_name": "CheckboxModel",
      "state": {
       "description": "Pchip",
       "disabled": false,
       "layout": "IPY_MODEL_d2355f5600754061936eb15fb9125540",
       "style": "IPY_MODEL_a5a509465ee24205a4b95a0cf1530a7d",
       "value": true
      }
     },
     "cc4caf1b7c5d46f38811fc8abb0e8040": {
      "model_module": "@jupyter-widgets/controls",
      "model_module_version": "2.0.0",
      "model_name": "ButtonStyleModel",
      "state": {
       "font_family": null,
       "font_size": null,
       "font_style": null,
       "font_variant": null,
       "font_weight": null,
       "text_color": null,
       "text_decoration": null
      }
     },
     "cd032adc276d4a67b8b63b55ffd82b41": {
      "model_module": "bqplot",
      "model_module_version": "^0.5",
      "model_name": "ToolbarModel",
      "state": {
       "_model_module_version": "^0.5",
       "_view_module_version": "^0.5",
       "figure": "IPY_MODEL_bb47d5c3806e4dcda71d25cc82956859",
       "layout": "IPY_MODEL_7511a1870ad043f8b5e3f7eff00a6873"
      }
     },
     "cf63523f96b347e39d27be714214587f": {
      "model_module": "@jupyter-widgets/base",
      "model_module_version": "2.0.0",
      "model_name": "LayoutModel",
      "state": {}
     },
     "d0afca5c88b14fe59f103218e5d2a14b": {
      "model_module": "@jupyter-widgets/base",
      "model_module_version": "2.0.0",
      "model_name": "LayoutModel",
      "state": {
       "grid_template_areas": "\"widget001 widget001 widget001 widget002 .\"\n\"widget001 widget001 widget001 widget003 .\"\n\"widget001 widget001 widget001 . .\"\n\"widget004 widget005 widget006 . .\"\n\"widget007 widget008 . . .\"\n\". . . . .\"",
       "grid_template_columns": "repeat(5, 1fr)",
       "grid_template_rows": "repeat(6, 1fr)"
      }
     },
     "d0cce47de5a24d7bb72303c2e5ab38b3": {
      "model_module": "@jupyter-widgets/controls",
      "model_module_version": "2.0.0",
      "model_name": "HBoxModel",
      "state": {
       "children": [
        "IPY_MODEL_4804b6690c8a4152b8be65c778e58802",
        "IPY_MODEL_5e914d8f514b4665bee515d466a6ff0d",
        "IPY_MODEL_28378db14e8443079437c0a18149af35",
        "IPY_MODEL_82f1c88975254173838472c37fd24ca8"
       ],
       "layout": "IPY_MODEL_635681fecfd24927bd42afbeac7db4b7"
      }
     },
     "d2355f5600754061936eb15fb9125540": {
      "model_module": "@jupyter-widgets/base",
      "model_module_version": "2.0.0",
      "model_name": "LayoutModel",
      "state": {}
     },
     "d24d46f666eb426999da48de915820ce": {
      "model_module": "@jupyter-widgets/controls",
      "model_module_version": "2.0.0",
      "model_name": "HTMLMathModel",
      "state": {
       "description": "$PA:$",
       "layout": "IPY_MODEL_b53ced96cd17402ab7cbc98c83c47876",
       "placeholder": "$PA$",
       "style": "IPY_MODEL_f15a189c72a344f99c449ce5292d9730",
       "value": "  \\begin{pmatrix} \n1.0 & 2.0 & 3.0 & 5.0\\\\ \n4.0 & 5.0 & 6.0 & 7.0\\\\ \n7.0 & 8.0 & 9.0 & 25.0\\\\ \n\\end{pmatrix} "
      }
     },
     "d44dd297fc42400bb1bcef1ee3ceab0a": {
      "model_module": "@jupyter-widgets/controls",
      "model_module_version": "2.0.0",
      "model_name": "ButtonStyleModel",
      "state": {
       "font_family": null,
       "font_size": null,
       "font_style": null,
       "font_variant": null,
       "font_weight": null,
       "text_color": null,
       "text_decoration": null
      }
     },
     "d5c9971d316d4437bd4755938b03d6f7": {
      "model_module": "@jupyter-widgets/controls",
      "model_module_version": "2.0.0",
      "model_name": "ButtonModel",
      "state": {
       "description": "Reset",
       "layout": "IPY_MODEL_3f579a89f4ad4da3a3c11eb1eb6ad601",
       "style": "IPY_MODEL_dc65a9c49fc94f0aa5d05afa6d227000",
       "tooltip": null
      }
     },
     "d7931d02d2974c5b906369c0dfed7b47": {
      "model_module": "@jupyter-widgets/controls",
      "model_module_version": "2.0.0",
      "model_name": "ButtonStyleModel",
      "state": {
       "font_family": null,
       "font_size": null,
       "font_style": null,
       "font_variant": null,
       "font_weight": null,
       "text_color": null,
       "text_decoration": null
      }
     },
     "d7f5cf6ffed44df4acc7dfbae9f818a1": {
      "model_module": "@jupyter-widgets/controls",
      "model_module_version": "2.0.0",
      "model_name": "VBoxModel",
      "state": {
       "children": [
        "IPY_MODEL_ab1398efa0c84e04b64d35ac63751712",
        "IPY_MODEL_6deaa67371194d41a8b0cc8ef3afa3a6",
        "IPY_MODEL_d5c9971d316d4437bd4755938b03d6f7"
       ],
       "layout": "IPY_MODEL_8e8247aea61544ceae999eb5feb79e3f"
      }
     },
     "d8bdadb1f1dd49959194816300baa6a9": {
      "model_module": "@jupyter-widgets/base",
      "model_module_version": "2.0.0",
      "model_name": "LayoutModel",
      "state": {
       "height": "30px",
       "width": "125px"
      }
     },
     "dbd6a722b47e48f380434f91d9730973": {
      "model_module": "@jupyter-widgets/base",
      "model_module_version": "2.0.0",
      "model_name": "LayoutModel",
      "state": {
       "height": "30px",
       "width": "125px"
      }
     },
     "dc65a9c49fc94f0aa5d05afa6d227000": {
      "model_module": "@jupyter-widgets/controls",
      "model_module_version": "2.0.0",
      "model_name": "ButtonStyleModel",
      "state": {
       "font_family": null,
       "font_size": null,
       "font_style": null,
       "font_variant": null,
       "font_weight": null,
       "text_color": null,
       "text_decoration": null
      }
     },
     "df615a00109f4b34be23e87522d9a3ee": {
      "model_module": "bqplot",
      "model_module_version": "^0.5",
      "model_name": "LinearScaleModel",
      "state": {
       "_model_module_version": "^0.5",
       "_view_module_version": "^0.5",
       "allow_padding": false,
       "max": 1,
       "min": 0,
       "stabilized": false
      }
     },
     "e6baf3fec4524dd0aca1c25a4192a811": {
      "model_module": "@jupyter-widgets/controls",
      "model_module_version": "2.0.0",
      "model_name": "ButtonStyleModel",
      "state": {
       "font_family": null,
       "font_size": null,
       "font_style": null,
       "font_variant": null,
       "font_weight": null,
       "text_color": null,
       "text_decoration": null
      }
     },
     "e6fee6408bcd472bb9774820420cb0ae": {
      "model_module": "@jupyter-widgets/controls",
      "model_module_version": "2.0.0",
      "model_name": "HTMLMathStyleModel",
      "state": {
       "description_width": "",
       "font_size": null,
       "text_color": null
      }
     },
     "e8753eb6f7ec424db0ae3be2e4f03d76": {
      "model_module": "@jupyter-widgets/controls",
      "model_module_version": "2.0.0",
      "model_name": "ButtonModel",
      "state": {
       "description": "5.00",
       "disabled": true,
       "layout": "IPY_MODEL_a5c90d4b159d4c688661243b403725c2",
       "style": "IPY_MODEL_ef2eac9e0d3f4c848529b9dc496d75ad",
       "tooltip": null
      }
     },
     "e9a1e0d213d3416a86899f9cf67fb814": {
      "model_module": "@jupyter-widgets/base",
      "model_module_version": "2.0.0",
      "model_name": "LayoutModel",
      "state": {}
     },
     "ede1268365444dd6944437b9e8ac931e": {
      "model_module": "@jupyter-widgets/controls",
      "model_module_version": "2.0.0",
      "model_name": "ButtonStyleModel",
      "state": {
       "font_family": null,
       "font_size": null,
       "font_style": null,
       "font_variant": null,
       "font_weight": null,
       "text_color": null,
       "text_decoration": null
      }
     },
     "ef2eac9e0d3f4c848529b9dc496d75ad": {
      "model_module": "@jupyter-widgets/controls",
      "model_module_version": "2.0.0",
      "model_name": "ButtonStyleModel",
      "state": {
       "font_family": null,
       "font_size": null,
       "font_style": null,
       "font_variant": null,
       "font_weight": null,
       "text_color": null,
       "text_decoration": null
      }
     },
     "ef992d7746e1432e94c52c4e430b8a72": {
      "model_module": "@jupyter-widgets/base",
      "model_module_version": "2.0.0",
      "model_name": "LayoutModel",
      "state": {
       "grid_area": "widget006"
      }
     },
     "f06fa7d9e17344699077239342b88713": {
      "model_module": "@jupyter-widgets/controls",
      "model_module_version": "2.0.0",
      "model_name": "ButtonStyleModel",
      "state": {
       "font_family": null,
       "font_size": null,
       "font_style": null,
       "font_variant": null,
       "font_weight": null,
       "text_color": null,
       "text_decoration": null
      }
     },
     "f0f22fd0e25a4661a5b9c13f2991b611": {
      "model_module": "@jupyter-widgets/base",
      "model_module_version": "2.0.0",
      "model_name": "LayoutModel",
      "state": {
       "grid_area": "widget001"
      }
     },
     "f15a189c72a344f99c449ce5292d9730": {
      "model_module": "@jupyter-widgets/controls",
      "model_module_version": "2.0.0",
      "model_name": "HTMLMathStyleModel",
      "state": {
       "description_width": "",
       "font_size": null,
       "text_color": null
      }
     },
     "f203508f58084778a948c56ccc2b69a5": {
      "model_module": "@jupyter-widgets/base",
      "model_module_version": "2.0.0",
      "model_name": "LayoutModel",
      "state": {
       "grid_area": "widget002"
      }
     },
     "f3e25c48e91742ca91d9d9513c642938": {
      "buffers": [
       {
        "data": "AAAAAAAA8D8AAAAAAAAAQAAAAAAAAAhAAAAAAAAAEEAAAAAAAAAUQAAAAAAAABhA",
        "encoding": "base64",
        "path": [
         "x",
         "value"
        ]
       },
       {
        "data": "AAAAAAAAMEAAAAAAAAAyQAAAAAAAADVAAAAAAAAAMUAAAAAAAAAuQAAAAAAAAChA",
        "encoding": "base64",
        "path": [
         "y",
         "value"
        ]
       },
       {
        "data": "AAAAAAAA8D8=",
        "encoding": "base64",
        "path": [
         "opacities",
         "value"
        ]
       }
      ],
      "model_module": "bqplot",
      "model_module_version": "^0.5",
      "model_name": "ScatterModel",
      "state": {
       "_model_module_version": "^0.5",
       "_view_module_version": "^0.5",
       "colors": [
        "red"
       ],
       "enable_move": true,
       "interactions": {
        "click": "add"
       },
       "label_display_horizontal_offset": 0,
       "label_display_vertical_offset": 0,
       "labels": [
        "Points"
       ],
       "names": null,
       "opacities": {
        "dtype": "float64",
        "shape": [
         1
        ],
        "type": null,
        "value": {}
       },
       "scales": {
        "x": "IPY_MODEL_ffa446cc1405472399c38ad20d012849",
        "y": "IPY_MODEL_88b7310c3bfc4e5291751bfcce61b32a"
       },
       "scales_metadata": {
        "color": {
         "dimension": "color"
        },
        "opacity": {
         "dimension": "opacity"
        },
        "rotation": {
         "dimension": "rotation"
        },
        "size": {
         "dimension": "size"
        },
        "skew": {
         "dimension": "skew"
        },
        "x": {
         "dimension": "x",
         "orientation": "horizontal"
        },
        "y": {
         "dimension": "y",
         "orientation": "vertical"
        }
       },
       "x": {
        "dtype": "float64",
        "shape": [
         6
        ],
        "type": null,
        "value": {}
       },
       "y": {
        "dtype": "float64",
        "shape": [
         6
        ],
        "type": null,
        "value": {}
       }
      }
     },
     "f7e79c0cb7f14ff29798091514f8536b": {
      "model_module": "@jupyter-widgets/controls",
      "model_module_version": "2.0.0",
      "model_name": "ButtonStyleModel",
      "state": {
       "font_family": null,
       "font_size": null,
       "font_style": null,
       "font_variant": null,
       "font_weight": null,
       "text_color": null,
       "text_decoration": null
      }
     },
     "ffa446cc1405472399c38ad20d012849": {
      "model_module": "bqplot",
      "model_module_version": "^0.5",
      "model_name": "LinearScaleModel",
      "state": {
       "_model_module_version": "^0.5",
       "_view_module_version": "^0.5",
       "stabilized": false
      }
     }
    },
    "version_major": 2,
    "version_minor": 0
   }
  }
 },
 "nbformat": 4,
 "nbformat_minor": 4
}
