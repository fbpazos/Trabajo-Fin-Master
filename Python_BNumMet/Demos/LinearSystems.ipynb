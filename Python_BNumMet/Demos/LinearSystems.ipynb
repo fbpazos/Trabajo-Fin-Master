{
 "cells": [
  {
   "cell_type": "code",
   "execution_count": 21,
   "metadata": {},
   "outputs": [],
   "source": [
    "from BNumMet.LinearSystems import (\n",
    "    lu,\n",
    "    forward_substitution,\n",
    "    backward_substitution,\n",
    "    lu_solve,\n",
    "    qr_factorization,\n",
    "    qr_solve,\n",
    ")\n",
    "import numpy as np\n",
    "from BNumMet.module import pretty_print_matrix, pretty_plua\n",
    "from IPython.display import display, Math, Latex"
   ]
  },
  {
   "attachments": {},
   "cell_type": "markdown",
   "metadata": {},
   "source": [
    "# Linear Systems"
   ]
  },
  {
   "attachments": {},
   "cell_type": "markdown",
   "metadata": {},
   "source": [
    "## LU Decomposition"
   ]
  },
  {
   "cell_type": "code",
   "execution_count": 22,
   "metadata": {},
   "outputs": [
    {
     "data": {
      "text/plain": [
       "array([[1., 0., 0.],\n",
       "       [0., 0., 1.],\n",
       "       [0., 1., 0.]])"
      ]
     },
     "metadata": {},
     "output_type": "display_data"
    },
    {
     "data": {
      "text/plain": [
       "array([[ 1.  ,  0.  ,  0.  ],\n",
       "       [ 0.5 ,  1.  ,  0.  ],\n",
       "       [-0.3 , -0.04,  1.  ]])"
      ]
     },
     "metadata": {},
     "output_type": "display_data"
    },
    {
     "data": {
      "text/plain": [
       "array([[10. , -7. ,  0. ],\n",
       "       [ 0. ,  2.5,  5. ],\n",
       "       [ 0. ,  0. ,  6.2]])"
      ]
     },
     "metadata": {},
     "output_type": "display_data"
    }
   ],
   "source": [
    "A = np.array([[10, -7, 0], [-3, 2, 6], [5, -1, 5]])\n",
    "P, L, U = lu(A)\n",
    "display(P, L, U)"
   ]
  },
  {
   "attachments": {},
   "cell_type": "markdown",
   "metadata": {},
   "source": [
    "## Forward Substitution"
   ]
  },
  {
   "cell_type": "code",
   "execution_count": 23,
   "metadata": {},
   "outputs": [],
   "source": [
    "A = np.array([[10, -7, 0], [-3, 2, 6], [5, -1, 5]])\n",
    "b = np.array([7, 4, 6])\n",
    "P, L, U = lu(A)"
   ]
  },
  {
   "cell_type": "code",
   "execution_count": 24,
   "metadata": {},
   "outputs": [
    {
     "data": {
      "text/plain": [
       "array([7. , 2.5, 6.2])"
      ]
     },
     "metadata": {},
     "output_type": "display_data"
    }
   ],
   "source": [
    "solution_aux = forward_substitution(L, P @ b)\n",
    "display(solution_aux)"
   ]
  },
  {
   "attachments": {},
   "cell_type": "markdown",
   "metadata": {},
   "source": [
    "## Backward Substitution"
   ]
  },
  {
   "cell_type": "code",
   "execution_count": 25,
   "metadata": {},
   "outputs": [],
   "source": [
    "A = np.array([[10, -7, 0], [-3, 2, 6], [5, -1, 5]])\n",
    "b = np.array([7, 4, 6])\n",
    "P, L, U = lu(A)\n",
    "solution_aux = forward_substitution(L, P @ b)"
   ]
  },
  {
   "cell_type": "code",
   "execution_count": 26,
   "metadata": {},
   "outputs": [
    {
     "data": {
      "text/plain": [
       "array([ 0., -1.,  1.])"
      ]
     },
     "metadata": {},
     "output_type": "display_data"
    }
   ],
   "source": [
    "solution = backward_substitution(U, solution_aux)\n",
    "display(solution)"
   ]
  },
  {
   "attachments": {},
   "cell_type": "markdown",
   "metadata": {},
   "source": [
    "## LU Solve"
   ]
  },
  {
   "cell_type": "code",
   "execution_count": 28,
   "metadata": {},
   "outputs": [
    {
     "data": {
      "text/plain": [
       "array([ 0., -1.,  1.])"
      ]
     },
     "metadata": {},
     "output_type": "display_data"
    }
   ],
   "source": [
    "A = np.array([[10, -7, 0], [-3, 2, 6], [5, -1, 5]])\n",
    "b = np.array([7, 4, 6])\n",
    "solution = lu_solve(A, b)\n",
    "display(solution)"
   ]
  },
  {
   "attachments": {},
   "cell_type": "markdown",
   "metadata": {},
   "source": [
    "## QR Decomposition"
   ]
  },
  {
   "cell_type": "code",
   "execution_count": 35,
   "metadata": {},
   "outputs": [
    {
     "data": {
      "text/plain": [
       "array([[-0.86386843,  0.42560398,  0.26943013],\n",
       "       [ 0.25916053, -0.08312578,  0.96225045],\n",
       "       [-0.43193421, -0.90108343,  0.03849002]])"
      ]
     },
     "metadata": {},
     "output_type": "display_data"
    },
    {
     "data": {
      "text/plain": [
       "array([[-11.5758369 ,   6.99733425,  -0.6047079 ],\n",
       "       [  0.        ,  -2.24439601,  -5.00417184],\n",
       "       [  0.        ,   0.        ,   5.96595278]])"
      ]
     },
     "metadata": {},
     "output_type": "display_data"
    },
    {
     "data": {
      "text/plain": [
       "array([[ 1.00000000e+01, -7.00000000e+00, -4.67352964e-16],\n",
       "       [-3.00000000e+00,  2.00000000e+00,  6.00000000e+00],\n",
       "       [ 5.00000000e+00, -1.00000000e+00,  5.00000000e+00]])"
      ]
     },
     "metadata": {},
     "output_type": "display_data"
    }
   ],
   "source": [
    "A = np.array([[10, -7, 0], [-3, 2, 6], [5, -1, 5]])\n",
    "Q, R = qr_factorization(A)\n",
    "display(Q, R)\n",
    "display(Q @ R)"
   ]
  },
  {
   "attachments": {},
   "cell_type": "markdown",
   "metadata": {},
   "source": [
    "## QR Solve\n"
   ]
  },
  {
   "cell_type": "code",
   "execution_count": 37,
   "metadata": {},
   "outputs": [
    {
     "data": {
      "text/plain": [
       "array([-3.83634647e-16, -1.00000000e+00,  1.00000000e+00])"
      ]
     },
     "metadata": {},
     "output_type": "display_data"
    }
   ],
   "source": [
    "A = np.array([[10, -7, 0], [-3, 2, 6], [5, -1, 5]])\n",
    "b = np.array([7, 4, 6])\n",
    "solution = qr_solve(A, b)\n",
    "display(solution)"
   ]
  }
 ],
 "metadata": {
  "kernelspec": {
   "display_name": "venv",
   "language": "python",
   "name": "python3"
  },
  "language_info": {
   "codemirror_mode": {
    "name": "ipython",
    "version": 3
   },
   "file_extension": ".py",
   "mimetype": "text/x-python",
   "name": "python",
   "nbconvert_exporter": "python",
   "pygments_lexer": "ipython3",
   "version": "3.10.10"
  },
  "vscode": {
   "interpreter": {
    "hash": "4a6a798ee0bc491963f41cf6632b8f4dceebcc1559a3794d171ddee64c51fd8f"
   }
  }
 },
 "nbformat": 4,
 "nbformat_minor": 2
}
