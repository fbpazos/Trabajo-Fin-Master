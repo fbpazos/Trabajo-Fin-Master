{
 "cells": [
  {
   "cell_type": "code",
   "execution_count": 3,
   "metadata": {},
   "outputs": [],
   "source": [
    "from BNumMet.LinearSystems import interactive_lu, lu, permute\n",
    "import numpy as np\n",
    "\n",
    "# display\n",
    "from IPython.display import display, Markdown, Latex, Math\n",
    "\n",
    "\n",
    "def prettyPrintMatrix(matrix, simple=False):\n",
    "    res = \"  \\\\begin{pmatrix} \\n\"\n",
    "    for row in matrix:\n",
    "        res += \" & \".join([str(round(x, 3)) for x in row]) + \"\\\\\\\\ \\n\"\n",
    "    res += \"\\\\end{pmatrix} \"\n",
    "\n",
    "    return Math(res) if not simple else res\n",
    "\n",
    "\n",
    "def prettyPLUA(P, L, U, A):\n",
    "    res = f\"\"\" \n",
    "    \\\\begin{{array}}{{lll}}\n",
    "        P = {prettyPrintMatrix(P,True)} & L = {prettyPrintMatrix(L,True)} & U = {prettyPrintMatrix(U,True)} \n",
    "        \\\\\\\\\n",
    "        &&\n",
    "        \\\\\\\\\n",
    "        P\\cdot A = {prettyPrintMatrix(P@A,True)} &  L\\cdot U = {prettyPrintMatrix(L@U,True)}\n",
    "    \\\\end{{array}}\n",
    "    \"\"\"\n",
    "    return Math(res)"
   ]
  },
  {
   "cell_type": "code",
   "execution_count": 4,
   "metadata": {},
   "outputs": [
    {
     "data": {
      "text/plain": [
       "array([[10, -7,  0],\n",
       "       [-3,  2,  6],\n",
       "       [ 5, -1,  5]])"
      ]
     },
     "metadata": {},
     "output_type": "display_data"
    },
    {
     "data": {
      "text/plain": [
       "array([[1., 0., 0.],\n",
       "       [0., 0., 1.],\n",
       "       [0., 1., 0.]])"
      ]
     },
     "metadata": {},
     "output_type": "display_data"
    },
    {
     "data": {
      "text/plain": [
       "array([[ 1.  ,  0.  ,  0.  ],\n",
       "       [ 0.5 ,  1.  ,  0.  ],\n",
       "       [-0.3 , -0.04,  1.  ]])"
      ]
     },
     "metadata": {},
     "output_type": "display_data"
    },
    {
     "data": {
      "text/plain": [
       "array([[10. , -7. ,  0. ],\n",
       "       [ 0. ,  2.5,  5. ],\n",
       "       [ 0. ,  0. ,  6.2]])"
      ]
     },
     "metadata": {},
     "output_type": "display_data"
    }
   ],
   "source": [
    "A = np.array([[10, -7, 0], [-3, 2, 6], [5, -1, 5]])\n",
    "P, L, U = lu(A)\n",
    "\n",
    "display(A, P, L, U)"
   ]
  },
  {
   "cell_type": "code",
   "execution_count": 3,
   "metadata": {},
   "outputs": [
    {
     "name": "stdout",
     "output_type": "stream",
     "text": [
      "________________________1_________________________\n"
     ]
    },
    {
     "data": {
      "text/latex": [
       "$\\displaystyle  \n",
       "    \\begin{array}{lll}\n",
       "        P =   \\begin{pmatrix} \n",
       "1.0 & 0.0 & 0.0\\\\ \n",
       "0.0 & 1.0 & 0.0\\\\ \n",
       "0.0 & 0.0 & 1.0\\\\ \n",
       "\\end{pmatrix}  & L =   \\begin{pmatrix} \n",
       "1.0 & 0.0 & 0.0\\\\ \n",
       "-0.3 & 1.0 & 0.0\\\\ \n",
       "0.5 & 0.0 & 1.0\\\\ \n",
       "\\end{pmatrix}  & U =   \\begin{pmatrix} \n",
       "10.0 & -7.0 & 0.0\\\\ \n",
       "0.0 & -0.1 & 6.0\\\\ \n",
       "0.0 & 2.5 & 5.0\\\\ \n",
       "\\end{pmatrix}  \n",
       "        \\\\\n",
       "        &&\n",
       "        \\\\\n",
       "        P\\cdot A =   \\begin{pmatrix} \n",
       "10.0 & -7.0 & 0.0\\\\ \n",
       "-3.0 & 2.0 & 6.0\\\\ \n",
       "5.0 & -1.0 & 5.0\\\\ \n",
       "\\end{pmatrix}  &  L\\cdot U =   \\begin{pmatrix} \n",
       "10.0 & -7.0 & 0.0\\\\ \n",
       "-3.0 & 2.0 & 6.0\\\\ \n",
       "5.0 & -1.0 & 5.0\\\\ \n",
       "\\end{pmatrix} \n",
       "    \\end{array}\n",
       "    $"
      ],
      "text/plain": [
       "<IPython.core.display.Math object>"
      ]
     },
     "metadata": {},
     "output_type": "display_data"
    },
    {
     "name": "stdout",
     "output_type": "stream",
     "text": [
      "\n",
      "________________________2_________________________\n"
     ]
    },
    {
     "data": {
      "text/latex": [
       "$\\displaystyle  \n",
       "    \\begin{array}{lll}\n",
       "        P =   \\begin{pmatrix} \n",
       "1.0 & 0.0 & 0.0\\\\ \n",
       "0.0 & 0.0 & 1.0\\\\ \n",
       "0.0 & 1.0 & 0.0\\\\ \n",
       "\\end{pmatrix}  & L =   \\begin{pmatrix} \n",
       "1.0 & 0.0 & 0.0\\\\ \n",
       "0.5 & 1.0 & 0.0\\\\ \n",
       "-0.3 & -0.04 & 1.0\\\\ \n",
       "\\end{pmatrix}  & U =   \\begin{pmatrix} \n",
       "10.0 & -7.0 & 0.0\\\\ \n",
       "0.0 & 2.5 & 5.0\\\\ \n",
       "0.0 & 0.0 & 6.2\\\\ \n",
       "\\end{pmatrix}  \n",
       "        \\\\\n",
       "        &&\n",
       "        \\\\\n",
       "        P\\cdot A =   \\begin{pmatrix} \n",
       "10.0 & -7.0 & 0.0\\\\ \n",
       "5.0 & -1.0 & 5.0\\\\ \n",
       "-3.0 & 2.0 & 6.0\\\\ \n",
       "\\end{pmatrix}  &  L\\cdot U =   \\begin{pmatrix} \n",
       "10.0 & -7.0 & 0.0\\\\ \n",
       "5.0 & -1.0 & 5.0\\\\ \n",
       "-3.0 & 2.0 & 6.0\\\\ \n",
       "\\end{pmatrix} \n",
       "    \\end{array}\n",
       "    $"
      ],
      "text/plain": [
       "<IPython.core.display.Math object>"
      ]
     },
     "metadata": {},
     "output_type": "display_data"
    },
    {
     "name": "stdout",
     "output_type": "stream",
     "text": [
      "\n",
      "________________________-1________________________\n"
     ]
    },
    {
     "data": {
      "text/latex": [
       "$\\displaystyle  \n",
       "    \\begin{array}{lll}\n",
       "        P =   \\begin{pmatrix} \n",
       "1.0 & 0.0 & 0.0\\\\ \n",
       "0.0 & 0.0 & 1.0\\\\ \n",
       "0.0 & 1.0 & 0.0\\\\ \n",
       "\\end{pmatrix}  & L =   \\begin{pmatrix} \n",
       "1.0 & 0.0 & 0.0\\\\ \n",
       "0.5 & 1.0 & 0.0\\\\ \n",
       "-0.3 & -0.04 & 1.0\\\\ \n",
       "\\end{pmatrix}  & U =   \\begin{pmatrix} \n",
       "10.0 & -7.0 & 0.0\\\\ \n",
       "0.0 & 2.5 & 5.0\\\\ \n",
       "0.0 & 0.0 & 6.2\\\\ \n",
       "\\end{pmatrix}  \n",
       "        \\\\\n",
       "        &&\n",
       "        \\\\\n",
       "        P\\cdot A =   \\begin{pmatrix} \n",
       "10.0 & -7.0 & 0.0\\\\ \n",
       "5.0 & -1.0 & 5.0\\\\ \n",
       "-3.0 & 2.0 & 6.0\\\\ \n",
       "\\end{pmatrix}  &  L\\cdot U =   \\begin{pmatrix} \n",
       "10.0 & -7.0 & 0.0\\\\ \n",
       "5.0 & -1.0 & 5.0\\\\ \n",
       "-3.0 & 2.0 & 6.0\\\\ \n",
       "\\end{pmatrix} \n",
       "    \\end{array}\n",
       "    $"
      ],
      "text/plain": [
       "<IPython.core.display.Math object>"
      ]
     },
     "metadata": {},
     "output_type": "display_data"
    },
    {
     "name": "stdout",
     "output_type": "stream",
     "text": [
      "\n"
     ]
    }
   ],
   "source": [
    "lastColumn = 0\n",
    "while lastColumn > -1:\n",
    "    P, L, U, lastColumn, iMax = interactive_lu(P, L, U, lastColumn, -1)\n",
    "    print(f\"{lastColumn:_^50}\")\n",
    "    display(prettyPLUA(P, L, U, A))\n",
    "    print()"
   ]
  }
 ],
 "metadata": {
  "kernelspec": {
   "display_name": "Python 3 (ipykernel)",
   "language": "python",
   "name": "python3"
  },
  "language_info": {
   "codemirror_mode": {
    "name": "ipython",
    "version": 3
   },
   "file_extension": ".py",
   "mimetype": "text/x-python",
   "name": "python",
   "nbconvert_exporter": "python",
   "pygments_lexer": "ipython3",
   "version": "3.10.7"
  },
  "vscode": {
   "interpreter": {
    "hash": "83d9e32ab33f86af83efc02f16b4077710b51761b1c9010c05ede500fe3e0166"
   }
  }
 },
 "nbformat": 4,
 "nbformat_minor": 2
}
