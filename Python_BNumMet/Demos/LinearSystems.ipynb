{
 "cells": [
  {
   "cell_type": "code",
   "execution_count": 13,
   "metadata": {},
   "outputs": [],
   "source": [
    "from BNumMet.LinearSystems import interactive_lu, lu, permute\n",
    "import numpy as np\n",
    "\n",
    "# display\n",
    "from IPython.display import display, Markdown, Latex, Math\n",
    "\n",
    "\n",
    "def prettyPrintMatrix(matrix, simple=False):\n",
    "    res = \"  \\\\begin{pmatrix} \\n\"\n",
    "    for row in matrix:\n",
    "        res += \" & \".join([str(round(x, 3)) for x in row]) + \"\\\\\\\\ \\n\"\n",
    "    res += \"\\\\end{pmatrix} \"\n",
    "\n",
    "    return Math(res) if not simple else res\n",
    "\n",
    "\n",
    "def prettyPLUA(P, L, U, A):\n",
    "    res = f\"\"\" \n",
    "    \\\\begin{{array}}{{lll}}\n",
    "        P = {prettyPrintMatrix(P,True)} & L = {prettyPrintMatrix(L,True)} & U = {prettyPrintMatrix(U,True)} \n",
    "        \\\\\\\\\n",
    "        &&\n",
    "        \\\\\\\\\n",
    "        P\\cdot A = {prettyPrintMatrix(P@A,True)} &  L\\cdot U = {prettyPrintMatrix(L@U,True)}\n",
    "    \\\\end{{array}}\n",
    "    \"\"\"\n",
    "    return Math(res)"
   ]
  },
  {
   "cell_type": "code",
   "execution_count": 14,
   "metadata": {},
   "outputs": [
    {
     "data": {
      "text/plain": [
       "array([[10, -7,  0],\n",
       "       [-3,  2,  6],\n",
       "       [ 5, -1,  5]])"
      ]
     },
     "metadata": {},
     "output_type": "display_data"
    },
    {
     "data": {
      "text/plain": [
       "array([[1., 0., 0.],\n",
       "       [0., 0., 1.],\n",
       "       [0., 1., 0.]])"
      ]
     },
     "metadata": {},
     "output_type": "display_data"
    },
    {
     "data": {
      "text/plain": [
       "array([[ 1.  ,  0.  ,  0.  ],\n",
       "       [ 0.5 ,  1.  ,  0.  ],\n",
       "       [-0.3 , -0.04,  1.  ]])"
      ]
     },
     "metadata": {},
     "output_type": "display_data"
    },
    {
     "data": {
      "text/plain": [
       "array([[10. , -7. ,  0. ],\n",
       "       [ 0. ,  2.5,  5. ],\n",
       "       [ 0. ,  0. ,  6.2]])"
      ]
     },
     "metadata": {},
     "output_type": "display_data"
    }
   ],
   "source": [
    "A = np.array([[10, -7, 0], [-3, 2, 6], [5, -1, 5]])\n",
    "P, L, U = lu(A)\n",
    "\n",
    "display(A, P, L, U)"
   ]
  },
  {
   "cell_type": "code",
   "execution_count": 15,
   "metadata": {},
   "outputs": [
    {
     "name": "stdout",
     "output_type": "stream",
     "text": [
      "row 0\n",
      "col 0\n",
      "row 0\n",
      "col 1\n",
      "0 -1\n",
      "[[ 1.  4.  7.]\n",
      " [ 0.  0.  0.]\n",
      " [ 0.  0. -2.]]\n"
     ]
    }
   ],
   "source": [
    "P, L, U, lastColumn, rank = interactive_lu(\n",
    "    np.eye(3), np.eye(3), np.array([[1, 4, 7], [1, 4, 7], [1, 4, 5]]), 0, 0, -1\n",
    ")\n",
    "print(lastColumn, rank)\n",
    "print(U)"
   ]
  },
  {
   "cell_type": "code",
   "execution_count": 16,
   "metadata": {},
   "outputs": [
    {
     "name": "stdout",
     "output_type": "stream",
     "text": [
      "row -1\n",
      "col 0\n",
      "row -1\n",
      "col 1\n",
      "0 -1\n",
      "[[ 1.  4.  7.]\n",
      " [ 0.  0.  0.]\n",
      " [ 0.  0. -2.]]\n"
     ]
    }
   ],
   "source": [
    "interactive_lu(P, L, U, lastColumn, rank, -1)\n",
    "print(lastColumn, rank)\n",
    "print(U)"
   ]
  }
 ],
 "metadata": {
  "kernelspec": {
   "display_name": "venv",
   "language": "python",
   "name": "python3"
  },
  "language_info": {
   "codemirror_mode": {
    "name": "ipython",
    "version": 3
   },
   "file_extension": ".py",
   "mimetype": "text/x-python",
   "name": "python",
   "nbconvert_exporter": "python",
   "pygments_lexer": "ipython3",
   "version": "3.11.2"
  },
  "vscode": {
   "interpreter": {
    "hash": "4a6a798ee0bc491963f41cf6632b8f4dceebcc1559a3794d171ddee64c51fd8f"
   }
  }
 },
 "nbformat": 4,
 "nbformat_minor": 2
}
