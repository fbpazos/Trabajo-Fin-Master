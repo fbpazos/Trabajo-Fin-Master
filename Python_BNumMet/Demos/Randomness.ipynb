{
 "cells": [
  {
   "cell_type": "code",
   "execution_count": 1,
   "metadata": {},
   "outputs": [],
   "source": [
    "from BNumMet import Random"
   ]
  },
  {
   "cell_type": "code",
   "execution_count": 2,
   "metadata": {},
   "outputs": [],
   "source": [
    "arr = [1]"
   ]
  },
  {
   "cell_type": "code",
   "execution_count": 7,
   "metadata": {},
   "outputs": [
    {
     "name": "stdout",
     "output_type": "stream",
     "text": [
      "0.0008239871822297573\n",
      "[1, 3.051897510886192e-05, 0.00018310965970158577, 0.0008239871822297573]\n"
     ]
    }
   ],
   "source": [
    "if len(arr) >= 3:\n",
    "    print((6 * arr[-1] - 9 * arr[-2]) % 1)  # Test\n",
    "aux = Random.LehmersRand(a=2**16 + 3, m=2**31, c=0, x=arr[-1])\n",
    "arr.append(aux)\n",
    "print(arr)"
   ]
  },
  {
   "cell_type": "code",
   "execution_count": 4,
   "metadata": {},
   "outputs": [],
   "source": [
    "testArr = [0, 1]"
   ]
  },
  {
   "cell_type": "code",
   "execution_count": 8,
   "metadata": {},
   "outputs": [
    {
     "name": "stdout",
     "output_type": "stream",
     "text": [
      "[0, 1, 9, 1]\n"
     ]
    }
   ],
   "source": [
    "aux = Random.MarsagliaRand(\n",
    "    base=10, lag_r=2, lag_s=1, carry=0, seedTuple=(0, 1)\n",
    ")  # testArr = [0, 1, 9, 1, 7, 4, 2, 2, 0, 2, 8, 3, 4, 9]\n",
    "testArr.append(aux)\n",
    "print(testArr)"
   ]
  }
 ],
 "metadata": {
  "kernelspec": {
   "display_name": "venv",
   "language": "python",
   "name": "python3"
  },
  "language_info": {
   "codemirror_mode": {
    "name": "ipython",
    "version": 3
   },
   "file_extension": ".py",
   "mimetype": "text/x-python",
   "name": "python",
   "nbconvert_exporter": "python",
   "pygments_lexer": "ipython3",
   "version": "3.11.2"
  },
  "orig_nbformat": 4,
  "vscode": {
   "interpreter": {
    "hash": "4a6a798ee0bc491963f41cf6632b8f4dceebcc1559a3794d171ddee64c51fd8f"
   }
  }
 },
 "nbformat": 4,
 "nbformat_minor": 2
}
