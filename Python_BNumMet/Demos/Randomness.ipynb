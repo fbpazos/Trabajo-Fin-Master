{
 "cells": [
  {
   "cell_type": "code",
   "execution_count": null,
   "metadata": {},
   "outputs": [],
   "source": [
    "from BNumMet import Random"
   ]
  },
  {
   "cell_type": "code",
   "execution_count": null,
   "metadata": {},
   "outputs": [],
   "source": [
    "arr = [1]"
   ]
  },
  {
   "cell_type": "code",
   "execution_count": null,
   "metadata": {},
   "outputs": [],
   "source": [
    "if len(arr) >= 3:\n",
    "    print((6 * arr[-1] - 9 * arr[-2]) % 1)  # Test\n",
    "aux = Random.lehmers_rand(a=2**16 + 3, m=2**31, c=0, x=arr[-1])\n",
    "arr.append(aux)\n",
    "print(arr)"
   ]
  },
  {
   "cell_type": "code",
   "execution_count": null,
   "metadata": {},
   "outputs": [],
   "source": [
    "testArr = [0, 1]"
   ]
  },
  {
   "cell_type": "code",
   "execution_count": null,
   "metadata": {},
   "outputs": [],
   "source": [
    "aux = Random.marsaglia_rand(\n",
    "    base=100, lag_r=2, lag_s=1, carry=0, seed_tuple=(0, 1)\n",
    ")  # testArr = [0, 1, 9, 1, 7, 4, 2, 2, 0, 2, 8, 3, 4, 9]\n",
    "testArr.append(aux)\n",
    "print(testArr)"
   ]
  },
  {
   "cell_type": "code",
   "execution_count": null,
   "metadata": {},
   "outputs": [],
   "source": [
    "Random.genrand()"
   ]
  },
  {
   "cell_type": "code",
   "execution_count": 5,
   "metadata": {},
   "outputs": [
    {
     "data": {
      "text/plain": [
       "<matplotlib.collections.PathCollection at 0x2a7b1075390>"
      ]
     },
     "execution_count": 5,
     "metadata": {},
     "output_type": "execute_result"
    },
    {
     "data": {
      "image/png": "[encoded data removed]",
      "text/plain": [
       "<Figure size 640x480 with 1 Axes>"
      ]
     },
     "metadata": {},
     "output_type": "display_data"
    }
   ],
   "source": [
    "# Test Random.genrand()\n",
    "import matplotlib.pyplot as plt\n",
    "from BNumMet import Random\n",
    "\n",
    "xy_fail1 = [\n",
    "    (\n",
    "        Random.marsaglia_rand(base=100, lag_r=2, lag_s=1, carry=0, seed_tuple=(0, 1)),\n",
    "        Random.marsaglia_rand(base=100, lag_r=2, lag_s=1, carry=0, seed_tuple=(0, 1)),\n",
    "    )\n",
    "    for i in range(100000)\n",
    "]\n",
    "\n",
    "\n",
    "fail2 = (\n",
    "    lambda: float(\n",
    "        (int(Random.lehmers_rand(a=65539, c=0, m=2**31, x=123) * (2**31)) >> 23)\n",
    "        & 0xFF\n",
    "    )\n",
    "    / 255\n",
    ")\n",
    "xy_fail2 = [(fail2(), fail2()) for i in range(100000)]\n",
    "\n",
    "\n",
    "plt.scatter(*zip(*xy_fail1), s=1, c=\"black\")"
   ]
  },
  {
   "cell_type": "code",
   "execution_count": null,
   "metadata": {},
   "outputs": [],
   "source": [
    "import numpy\n",
    "from nistrng import *\n",
    "\n",
    "# Test genrand from nistrng\n",
    "sequence = numpy.array(\n",
    "    [Random.genrand() * 0xFFFFFFFF for i in range(100)], dtype=numpy.uint64\n",
    ")\n",
    "\n",
    "\n",
    "binary_sequence: numpy.ndarray = pack_sequence(sequence)\n",
    "\n",
    "# Check the eligibility of the test and generate an eligible battery from the default NIST-sp800-22r1a battery\n",
    "eligible_battery: dict = check_eligibility_all_battery(\n",
    "    binary_sequence, SP800_22R1A_BATTERY\n",
    ")\n",
    "for i in eligible_battery:\n",
    "    print(i)\n",
    "\n",
    "# Test the sequence on the eligible tests\n",
    "results = run_all_battery(binary_sequence, eligible_battery, False)\n",
    "# Print results one by one\n",
    "results = [result.passed for result, _ in results]\n",
    "print(results)"
   ]
  },
  {
   "cell_type": "code",
   "execution_count": null,
   "metadata": {},
   "outputs": [],
   "source": [
    "lambda: Random.marsaglia_rand() / 4"
   ]
  },
  {
   "cell_type": "code",
   "execution_count": null,
   "metadata": {},
   "outputs": [],
   "source": [
    "from BNumMet import Random\n",
    "\n",
    "from BNumMet.Visualizers import RandomVisualizer\n",
    "from random import random\n",
    "\n",
    "randomVis = RandomVisualizer.RandomVisualizer(\n",
    "    lambda: Random.lehmers_rand(a=2**16 + 3, m=2**31, c=0, x=arr[-1])\n",
    ")\n",
    "randomVis.run()"
   ]
  }
 ],
 "metadata": {
  "kernelspec": {
   "display_name": "Python 3 (ipykernel)",
   "language": "python",
   "name": "python3"
  },
  "language_info": {
   "codemirror_mode": {
    "name": "ipython",
    "version": 3
   },
   "file_extension": ".py",
   "mimetype": "text/x-python",
   "name": "python",
   "nbconvert_exporter": "python",
   "pygments_lexer": "ipython3",
   "version": "3.11.2"
  },
  "vscode": {
   "interpreter": {
    "hash": "4a6a798ee0bc491963f41cf6632b8f4dceebcc1559a3794d171ddee64c51fd8f"
   }
  }
 },
 "nbformat": 4,
 "nbformat_minor": 2
}
