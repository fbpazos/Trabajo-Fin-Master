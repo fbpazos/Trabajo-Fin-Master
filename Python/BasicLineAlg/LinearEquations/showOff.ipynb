{
 "cells": [
  {
   "cell_type": "code",
   "execution_count": 26,
   "metadata": {},
   "outputs": [],
   "source": [
    "from lu import interative_lu,lu,permute\n",
    "import numpy as np\n",
    "# display\n",
    "from IPython.display import display, Markdown, Latex, Math\n",
    "\n",
    "def prettyPrintMatrix(matrix,simple=False):\n",
    "    res = \"  \\\\begin{pmatrix} \\n\"\n",
    "    for row in matrix:\n",
    "        res += \" & \".join([str(round(x,3)) for x in row]) + \"\\\\\\\\ \\n\"\n",
    "    res += \"\\\\end{pmatrix} \"\n",
    "\n",
    "    return Math(res) if not simple else res\n",
    "\n",
    "def prettyPLUA(P,L,U,A):\n",
    "    res = f\"\"\" \n",
    "    \\\\begin{{array}}{{lll}}\n",
    "        P = {prettyPrintMatrix(P,True)} & L = {prettyPrintMatrix(L,True)} & U = {prettyPrintMatrix(U,True)} \n",
    "        \\\\\\\\\n",
    "        &&\n",
    "        \\\\\\\\\n",
    "        P\\cdot A = {prettyPrintMatrix(P@A,True)} &  L\\cdot U = {prettyPrintMatrix(L@U,True)}\n",
    "    \\\\end{{array}}\n",
    "    \"\"\"\n",
    "    return Math(res)\n",
    "    \n"
   ]
  },
  {
   "cell_type": "code",
   "execution_count": 27,
   "metadata": {},
   "outputs": [
    {
     "data": {
      "text/plain": [
       "array([[10, -7,  0],\n",
       "       [-3,  2,  6],\n",
       "       [ 5, -1,  5]])"
      ]
     },
     "metadata": {},
     "output_type": "display_data"
    },
    {
     "data": {
      "text/plain": [
       "array([[1., 0., 0.],\n",
       "       [0., 1., 0.],\n",
       "       [0., 0., 1.]])"
      ]
     },
     "metadata": {},
     "output_type": "display_data"
    },
    {
     "data": {
      "text/plain": [
       "array([[1., 0., 0.],\n",
       "       [0., 1., 0.],\n",
       "       [0., 0., 1.]])"
      ]
     },
     "metadata": {},
     "output_type": "display_data"
    },
    {
     "data": {
      "text/plain": [
       "array([[10, -7,  0],\n",
       "       [-3,  2,  6],\n",
       "       [ 5, -1,  5]])"
      ]
     },
     "metadata": {},
     "output_type": "display_data"
    }
   ],
   "source": [
    "A = np.array([[10, -7, 0],[-3,2,6],[5,-1,5]])\n",
    "L = np.eye(A.shape[0])\n",
    "U = A.copy()\n",
    "P = np.eye(A.shape[0])\n",
    "\n",
    "display(A,P,L,U)"
   ]
  },
  {
   "cell_type": "code",
   "execution_count": 28,
   "metadata": {},
   "outputs": [
    {
     "data": {
      "text/latex": [
       "$\\displaystyle  \n",
       "    \\begin{array}{lll}\n",
       "        P =   \\begin{pmatrix} \n",
       "1.0 & 0.0 & 0.0\\\\ \n",
       "0.0 & 1.0 & 0.0\\\\ \n",
       "0.0 & 0.0 & 1.0\\\\ \n",
       "\\end{pmatrix}  & L =   \\begin{pmatrix} \n",
       "1.0 & 0.0 & 0.0\\\\ \n",
       "-0.3 & 1.0 & 0.0\\\\ \n",
       "0.5 & 0.0 & 1.0\\\\ \n",
       "\\end{pmatrix}  & U =   \\begin{pmatrix} \n",
       "10.0 & -7.0 & 0.0\\\\ \n",
       "0.0 & -0.1 & 6.0\\\\ \n",
       "0.0 & 2.5 & 5.0\\\\ \n",
       "\\end{pmatrix}  \n",
       "        \\\\\n",
       "        &&\n",
       "        \\\\\n",
       "        P\\cdot A =   \\begin{pmatrix} \n",
       "10.0 & -7.0 & 0.0\\\\ \n",
       "-3.0 & 2.0 & 6.0\\\\ \n",
       "5.0 & -1.0 & 5.0\\\\ \n",
       "\\end{pmatrix}  &  L\\cdot U =   \\begin{pmatrix} \n",
       "10.0 & -7.0 & 0.0\\\\ \n",
       "-3.0 & 2.0 & 6.0\\\\ \n",
       "5.0 & -1.0 & 5.0\\\\ \n",
       "\\end{pmatrix} \n",
       "    \\end{array}\n",
       "    $"
      ],
      "text/plain": [
       "<IPython.core.display.Math object>"
      ]
     },
     "metadata": {},
     "output_type": "display_data"
    },
    {
     "name": "stdout",
     "output_type": "stream",
     "text": [
      "\n"
     ]
    },
    {
     "data": {
      "text/latex": [
       "$\\displaystyle  \n",
       "    \\begin{array}{lll}\n",
       "        P =   \\begin{pmatrix} \n",
       "1.0 & 0.0 & 0.0\\\\ \n",
       "0.0 & 0.0 & 1.0\\\\ \n",
       "0.0 & 1.0 & 0.0\\\\ \n",
       "\\end{pmatrix}  & L =   \\begin{pmatrix} \n",
       "1.0 & 0.0 & 0.0\\\\ \n",
       "0.5 & 1.0 & 0.0\\\\ \n",
       "-0.3 & -0.04 & 1.0\\\\ \n",
       "\\end{pmatrix}  & U =   \\begin{pmatrix} \n",
       "10.0 & -7.0 & 0.0\\\\ \n",
       "0.0 & 2.5 & 5.0\\\\ \n",
       "0.0 & 0.0 & 6.2\\\\ \n",
       "\\end{pmatrix}  \n",
       "        \\\\\n",
       "        &&\n",
       "        \\\\\n",
       "        P\\cdot A =   \\begin{pmatrix} \n",
       "10.0 & -7.0 & 0.0\\\\ \n",
       "5.0 & -1.0 & 5.0\\\\ \n",
       "-3.0 & 2.0 & 6.0\\\\ \n",
       "\\end{pmatrix}  &  L\\cdot U =   \\begin{pmatrix} \n",
       "10.0 & -7.0 & 0.0\\\\ \n",
       "5.0 & -1.0 & 5.0\\\\ \n",
       "-3.0 & 2.0 & 6.0\\\\ \n",
       "\\end{pmatrix} \n",
       "    \\end{array}\n",
       "    $"
      ],
      "text/plain": [
       "<IPython.core.display.Math object>"
      ]
     },
     "metadata": {},
     "output_type": "display_data"
    },
    {
     "name": "stdout",
     "output_type": "stream",
     "text": [
      "\n"
     ]
    },
    {
     "data": {
      "text/latex": [
       "$\\displaystyle  \n",
       "    \\begin{array}{lll}\n",
       "        P =   \\begin{pmatrix} \n",
       "1.0 & 0.0 & 0.0\\\\ \n",
       "0.0 & 0.0 & 1.0\\\\ \n",
       "0.0 & 1.0 & 0.0\\\\ \n",
       "\\end{pmatrix}  & L =   \\begin{pmatrix} \n",
       "1.0 & 0.0 & 0.0\\\\ \n",
       "0.5 & 1.0 & 0.0\\\\ \n",
       "-0.3 & -0.04 & 1.0\\\\ \n",
       "\\end{pmatrix}  & U =   \\begin{pmatrix} \n",
       "10.0 & -7.0 & 0.0\\\\ \n",
       "0.0 & 2.5 & 5.0\\\\ \n",
       "0.0 & 0.0 & 6.2\\\\ \n",
       "\\end{pmatrix}  \n",
       "        \\\\\n",
       "        &&\n",
       "        \\\\\n",
       "        P\\cdot A =   \\begin{pmatrix} \n",
       "10.0 & -7.0 & 0.0\\\\ \n",
       "5.0 & -1.0 & 5.0\\\\ \n",
       "-3.0 & 2.0 & 6.0\\\\ \n",
       "\\end{pmatrix}  &  L\\cdot U =   \\begin{pmatrix} \n",
       "10.0 & -7.0 & 0.0\\\\ \n",
       "5.0 & -1.0 & 5.0\\\\ \n",
       "-3.0 & 2.0 & 6.0\\\\ \n",
       "\\end{pmatrix} \n",
       "    \\end{array}\n",
       "    $"
      ],
      "text/plain": [
       "<IPython.core.display.Math object>"
      ]
     },
     "metadata": {},
     "output_type": "display_data"
    },
    {
     "name": "stdout",
     "output_type": "stream",
     "text": [
      "\n"
     ]
    }
   ],
   "source": [
    "lastColumn = 0\n",
    "while lastColumn > -1:\n",
    "    P,L,U,lastColumn,iMax = interative_lu(P,L,U,lastColumn,-1)\n",
    "    display(prettyPLUA(P,L,U,A))\n",
    "    print()"
   ]
  },
  {
   "cell_type": "code",
   "execution_count": 29,
   "metadata": {},
   "outputs": [
    {
     "ename": "ValueError",
     "evalue": "too many values to unpack (expected 4)",
     "output_type": "error",
     "traceback": [
      "\u001b[1;31m---------------------------------------------------------------------------\u001b[0m",
      "\u001b[1;31mValueError\u001b[0m                                Traceback (most recent call last)",
      "Cell \u001b[1;32mIn [29], line 6\u001b[0m\n\u001b[0;32m      3\u001b[0m U \u001b[38;5;241m=\u001b[39m np\u001b[38;5;241m.\u001b[39marray([[\u001b[38;5;241m10.\u001b[39m , \u001b[38;5;241m-\u001b[39m\u001b[38;5;241m7.\u001b[39m ,  \u001b[38;5;241m0.\u001b[39m ],[ \u001b[38;5;241m0.\u001b[39m ,  \u001b[38;5;241m2.5\u001b[39m,  \u001b[38;5;241m5.\u001b[39m ],[ \u001b[38;5;241m0.\u001b[39m ,  \u001b[38;5;241m0.\u001b[39m ,  \u001b[38;5;241m6.2\u001b[39m]])\n\u001b[0;32m      4\u001b[0m lastColumn \u001b[38;5;241m=\u001b[39m \u001b[38;5;241m1\u001b[39m\n\u001b[1;32m----> 6\u001b[0m P,L,U,lastColumn \u001b[38;5;241m=\u001b[39m interative_lu(P,L,U,lastColumn,\u001b[38;5;241m-\u001b[39m\u001b[38;5;241m1\u001b[39m)\n",
      "\u001b[1;31mValueError\u001b[0m: too many values to unpack (expected 4)"
     ]
    }
   ],
   "source": [
    "P = np.array([[1., 0., 0.],[0., 0., 1.],[0., 1., 0.]])\n",
    "L = np.array([[ 1.  ,  0.  ,  0.  ],[ 0.5 ,  1.  ,  0.  ],[-0.3 , -0.04,  1.  ]])\n",
    "U = np.array([[10. , -7. ,  0. ],[ 0. ,  2.5,  5. ],[ 0. ,  0. ,  6.2]])\n",
    "lastColumn = 1\n",
    "\n",
    "P,L,U,lastColumn = interative_lu(P,L,U,lastColumn,-1)\n"
   ]
  }
 ],
 "metadata": {
  "kernelspec": {
   "display_name": "Python 3.10.5 64-bit",
   "language": "python",
   "name": "python3"
  },
  "language_info": {
   "codemirror_mode": {
    "name": "ipython",
    "version": 3
   },
   "file_extension": ".py",
   "mimetype": "text/x-python",
   "name": "python",
   "nbconvert_exporter": "python",
   "pygments_lexer": "ipython3",
   "version": "3.10.5"
  },
  "orig_nbformat": 4,
  "vscode": {
   "interpreter": {
    "hash": "d99a3f7b344b3c3107482760db15f42178bfad658d282ab0a919b76809e13cb5"
   }
  }
 },
 "nbformat": 4,
 "nbformat_minor": 2
}
